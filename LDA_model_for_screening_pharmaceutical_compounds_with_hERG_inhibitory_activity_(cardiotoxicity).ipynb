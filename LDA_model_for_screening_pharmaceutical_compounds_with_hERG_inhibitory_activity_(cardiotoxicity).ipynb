{
  "nbformat": 4,
  "nbformat_minor": 0,
  "metadata": {
    "colab": {
      "name": "LDA model for screening pharmaceutical compounds with hERG inhibitory activity (cardiotoxicity).ipynb",
      "provenance": [],
      "collapsed_sections": [],
      "include_colab_link": true
    },
    "kernelspec": {
      "display_name": "Python 3",
      "name": "python3"
    }
  },
  "cells": [
    {
      "cell_type": "markdown",
      "metadata": {
        "id": "view-in-github",
        "colab_type": "text"
      },
      "source": [
        "<a href=\"https://colab.research.google.com/github/ishankagrawal/LDA-model-for-Cardiotoxicity-prediction/blob/main/LDA_model_for_screening_pharmaceutical_compounds_with_hERG_inhibitory_activity_(cardiotoxicity).ipynb\" target=\"_parent\"><img src=\"https://colab.research.google.com/assets/colab-badge.svg\" alt=\"Open In Colab\"/></a>"
      ]
    },
    {
      "cell_type": "code",
      "metadata": {
        "colab": {
          "base_uri": "https://localhost:8080/"
        },
        "id": "09oratsblNv9",
        "outputId": "b41cc158-8919-4dd5-b054-1757de8fb024"
      },
      "source": [
        "!wget -c https://repo.continuum.io/miniconda/Miniconda3-py37_4.8.3-Linux-x86_64.sh\n",
        "!chmod +x Miniconda3-py37_4.8.3-Linux-x86_64.sh\n",
        "!time bash ./Miniconda3-py37_4.8.3-Linux-x86_64.sh -b -f -p /usr/local\n",
        "!time conda install -q -y -c conda-forge rdkit\n",
        "\n",
        "import sys\n",
        "sys.path.append('/usr/local/lib/python3.7/site-packages/')"
      ],
      "execution_count": null,
      "outputs": [
        {
          "output_type": "stream",
          "text": [
            "--2020-11-30 13:41:57--  https://repo.continuum.io/miniconda/Miniconda3-py37_4.8.3-Linux-x86_64.sh\n",
            "Resolving repo.continuum.io (repo.continuum.io)... 104.18.200.79, 104.18.201.79, 2606:4700::6812:c84f, ...\n",
            "Connecting to repo.continuum.io (repo.continuum.io)|104.18.200.79|:443... connected.\n",
            "HTTP request sent, awaiting response... 301 Moved Permanently\n",
            "Location: https://repo.anaconda.com/miniconda/Miniconda3-py37_4.8.3-Linux-x86_64.sh [following]\n",
            "--2020-11-30 13:41:57--  https://repo.anaconda.com/miniconda/Miniconda3-py37_4.8.3-Linux-x86_64.sh\n",
            "Resolving repo.anaconda.com (repo.anaconda.com)... 104.16.131.3, 104.16.130.3, 2606:4700::6810:8203, ...\n",
            "Connecting to repo.anaconda.com (repo.anaconda.com)|104.16.131.3|:443... connected.\n",
            "HTTP request sent, awaiting response... 416 Requested Range Not Satisfiable\n",
            "\n",
            "    The file is already fully retrieved; nothing to do.\n",
            "\n",
            "PREFIX=/usr/local\n",
            "Unpacking payload ...\n",
            "Collecting package metadata (current_repodata.json): - \b\b\\ \b\b| \b\bdone\n",
            "Solving environment: - \b\b\\ \b\b| \b\b/ \b\b- \b\b\\ \b\b| \b\b/ \b\b- \b\b\\ \b\b| \b\b/ \b\b- \b\b\\ \b\b| \b\b/ \b\b- \b\bfailed with initial frozen solve. Retrying with flexible solve.\n",
            "Solving environment: | \b\b/ \b\b- \b\b\\ \b\b| \b\b/ \b\b- \b\b\\ \b\b| \b\bfailed with repodata from current_repodata.json, will retry with next repodata source.\n",
            "Collecting package metadata (repodata.json): - \b\bdone\n",
            "Solving environment: | \b\b/ \b\b- \b\b\\ \b\b| \b\b/ \b\b- \b\b\\ \b\b| \b\b/ \b\b- \b\b\\ \b\b| \b\b/ \b\b- \b\b\\ \b\b| \b\bfailed with initial frozen solve. Retrying with flexible solve.\n",
            "Solving environment: - \b\b\\ \b\b| \b\b/ \b\b- \b\b\\ \b\b| \b\b/ \b\b- \n",
            "Found conflicts! Looking for incompatible packages.\n",
            "This can take several minutes.  Press CTRL-C to abort.\n",
            "\b\b\\ \b\b| \b\bfailed\n",
            "\n",
            "UnsatisfiableError: The following specifications were found to be incompatible with each other:\n",
            "\n",
            "Output in format: Requested package -> Available versions\n",
            "\n",
            "Package zlib conflicts for:\n",
            "python-dateutil -> python -> zlib[version='>=1.2.11,<1.3.0a0']\n",
            "wheel==0.34.2=py37_0 -> python[version='>=3.7,<3.8.0a0'] -> zlib[version='>=1.2.11,<1.3.0a0']\n",
            "fontconfig -> freetype[version='>=2.10.4,<3.0a0'] -> zlib[version='>=1.2.11,<1.3.0a0']\n",
            "numpy -> python[version='>=3.7,<3.8.0a0'] -> zlib[version='>=1.2.11,<1.3.0a0']\n",
            "matplotlib-base -> freetype[version='>=2.10.4,<3.0a0'] -> zlib[version='>=1.2.11,<1.3.0a0']\n",
            "libpng -> zlib[version='>=1.2.11,<1.3.0a0']\n",
            "olefile -> python -> zlib[version='>=1.2.11,<1.3.0a0']\n",
            "tqdm==4.46.0=py_0 -> python -> zlib[version='>=1.2.11,<1.3.0a0']\n",
            "pycparser==2.20=py_0 -> python -> zlib[version='>=1.2.11,<1.3.0a0']\n",
            "idna==2.9=py_1 -> python -> zlib[version='>=1.2.11,<1.3.0a0']\n",
            "pandas -> python[version='>=3.7,<3.8.0a0'] -> zlib[version='>=1.2.11,<1.3.0a0']\n",
            "cycler -> python -> zlib[version='>=1.2.11,<1.3.0a0']\n",
            "libxml2 -> zlib[version='>=1.2.11,<1.3.0a0']\n",
            "pycairo -> cairo[version='>=1.16.0,<1.17.0a0'] -> zlib[version='>=1.2.11,<1.3.0a0']\n",
            "python==3.7.7=hcff3b4d_5 -> zlib[version='>=1.2.11,<1.3.0a0']\n",
            "pytz -> python[version='>=3'] -> zlib[version='>=1.2.11,<1.3.0a0']\n",
            "ruamel_yaml==0.15.87=py37h7b6447c_0 -> python[version='>=3.7,<3.8.0a0'] -> zlib[version='>=1.2.11,<1.3.0a0']\n",
            "requests==2.23.0=py37_0 -> python[version='>=3.7,<3.8.0a0'] -> zlib[version='>=1.2.11,<1.3.0a0']\n",
            "conda-package-handling==1.6.1=py37h7b6447c_0 -> python[version='>=3.7,<3.8.0a0'] -> zlib[version='>=1.2.11,<1.3.0a0']\n",
            "six==1.14.0=py37_0 -> python[version='>=3.7,<3.8.0a0'] -> zlib[version='>=1.2.11,<1.3.0a0']\n",
            "tornado -> python[version='>=3.7,<3.8.0a0'] -> zlib[version='>=1.2.11,<1.3.0a0']\n",
            "urllib3==1.25.8=py37_0 -> python[version='>=3.7,<3.8.0a0'] -> zlib[version='>=1.2.11,<1.3.0a0']\n",
            "pyparsing -> python -> zlib[version='>=1.2.11,<1.3.0a0']\n",
            "pyopenssl==19.1.0=py37_0 -> python[version='>=3.7,<3.8.0a0'] -> zlib[version='>=1.2.11,<1.3.0a0']\n",
            "reportlab -> freetype[version='>=2.10.4,<3.0a0'] -> zlib[version='>=1.2.11,<1.3.0a0']\n",
            "libtiff -> zlib[version='>=1.2.11,<1.3.0a0']\n",
            "pip==20.0.2=py37_3 -> python[version='>=3.7,<3.8.0a0'] -> zlib[version='>=1.2.11,<1.3.0a0']\n",
            "zlib==1.2.11=h7b6447c_3\n",
            "certifi==2020.4.5.1=py37_0 -> python[version='>=3.7,<3.8.0a0'] -> zlib[version='>=1.2.11,<1.3.0a0']\n",
            "sqlite==3.31.1=h62c20be_1 -> zlib[version='>=1.2.11,<1.3.0a0']\n",
            "pysocks==1.7.1=py37_0 -> python[version='>=3.7,<3.8.0a0'] -> zlib[version='>=1.2.11,<1.3.0a0']\n",
            "glib -> zlib[version='>=1.2.11,<1.3.0a0']\n",
            "pycosat==0.6.3=py37h7b6447c_0 -> python[version='>=3.7,<3.8.0a0'] -> zlib[version='>=1.2.11,<1.3.0a0']\n",
            "conda==4.8.3=py37_0 -> python[version='>=3.7,<3.8.0a0'] -> zlib[version='>=1.2.11,<1.3.0a0']\n",
            "setuptools==46.4.0=py37_0 -> python[version='>=3.7,<3.8.0a0'] -> zlib[version='>=1.2.11,<1.3.0a0']\n",
            "lcms2 -> libtiff[version='>=4.1.0,<5.0a0'] -> zlib[version='>=1.2.11,<1.3.0a0']\n",
            "python_abi -> python=3.7 -> zlib[version='>=1.2.11,<1.3.0a0']\n",
            "sqlalchemy -> python[version='>=3.7,<3.8.0a0'] -> zlib[version='>=1.2.11,<1.3.0a0']\n",
            "boost -> python[version='>=3.7,<3.8.0a0'] -> zlib[version='>=1.2.11,<1.3.0a0']\n",
            "rdkit -> cairo[version='>=1.16.0,<1.17.0a0'] -> zlib[version='>=1.2.11,<1.3.0a0']\n",
            "kiwisolver -> python[version='>=3.7,<3.8.0a0'] -> zlib[version='>=1.2.11,<1.3.0a0']\n",
            "cairo -> zlib[version='>=1.2.11,<1.3.0a0']\n",
            "cryptography==2.9.2=py37h1ba5d50_0 -> python[version='>=3.7,<3.8.0a0'] -> zlib[version='>=1.2.11,<1.3.0a0']\n",
            "chardet==3.0.4=py37_1003 -> python[version='>=3.7,<3.8.0a0'] -> zlib[version='>=1.2.11,<1.3.0a0']\n",
            "boost-cpp -> zstd[version='>=1.4.5,<1.5.0a0'] -> zlib[version='>=1.2.11,<1.3.0a0']\n",
            "zstd -> zlib[version='>=1.2.11,<1.3.0a0']\n",
            "freetype -> zlib[version='>=1.2.11,<1.3.0a0']\n",
            "cffi==1.14.0=py37he30daa8_1 -> python[version='>=3.7,<3.8.0a0'] -> zlib[version='>=1.2.11,<1.3.0a0']\n",
            "pillow -> zlib[version='>=1.2.11,<1.3.0a0']\n",
            "\n",
            "Package pycparser conflicts for:\n",
            "pycparser==2.20=py_0\n",
            "cffi==1.14.0=py37he30daa8_1 -> pycparser\n",
            "cryptography==2.9.2=py37h1ba5d50_0 -> cffi -> pycparser\n",
            "\n",
            "Package freetype conflicts for:\n",
            "matplotlib-base -> freetype[version='>=2.10.4,<3.0a0']\n",
            "pycairo -> cairo[version='>=1.16.0,<1.17.0a0'] -> freetype[version='>=2.9.1,<3.0a0']\n",
            "pillow -> freetype[version='>=2.10.4,<3.0a0']\n",
            "cairo -> fontconfig[version='>=2.13.1,<3.0a0'] -> freetype[version='>=2.10.4,<3.0a0']\n",
            "rdkit -> freetype[version='>=2.10.4,<3.0a0']\n",
            "reportlab -> freetype[version='>=2.10.4,<3.0a0']\n",
            "rdkit -> cairo[version='>=1.16.0,<1.17.0a0'] -> freetype[version='>=2.9.1,<3.0a0']\n",
            "fontconfig -> freetype[version='>=2.10.4,<3.0a0']\n",
            "freetype\n",
            "cairo -> freetype[version='>=2.9.1,<3.0a0']\n",
            "\n",
            "Package pyopenssl conflicts for:\n",
            "conda==4.8.3=py37_0 -> pyopenssl[version='>=16.2.0']\n",
            "requests==2.23.0=py37_0 -> urllib3[version='>=1.21.1,<1.26,!=1.25.0,!=1.25.1'] -> pyopenssl[version='>=0.14']\n",
            "urllib3==1.25.8=py37_0 -> pyopenssl[version='>=0.14']\n",
            "pyopenssl==19.1.0=py37_0\n",
            "\n",
            "Package _libgcc_mutex conflicts for:\n",
            "xorg-libsm -> libgcc-ng[version='>=7.3.0'] -> _libgcc_mutex=[build=main]\n",
            "xorg-kbproto -> libgcc-ng[version='>=7.3.0'] -> _libgcc_mutex=[build=main]\n",
            "libiconv -> libgcc-ng[version='>=7.5.0'] -> _libgcc_mutex=[build=main]\n",
            "lcms2 -> libgcc-ng[version='>=7.5.0'] -> _libgcc_mutex=[build=main]\n",
            "python==3.7.7=hcff3b4d_5 -> libgcc-ng[version='>=7.3.0'] -> _libgcc_mutex=[build=main]\n",
            "sqlalchemy -> libgcc-ng[version='>=7.5.0'] -> _libgcc_mutex=[build=main]\n",
            "conda-package-handling==1.6.1=py37h7b6447c_0 -> libgcc-ng[version='>=7.3.0'] -> _libgcc_mutex=[build=main]\n",
            "xorg-libxau -> libgcc-ng[version='>=7.3.0'] -> _libgcc_mutex=[build=main]\n",
            "libgcc-ng==9.1.0=hdf63c60_0 -> _libgcc_mutex=[build=main]\n",
            "zlib==1.2.11=h7b6447c_3 -> libgcc-ng[version='>=7.3.0'] -> _libgcc_mutex=[build=main]\n",
            "jpeg -> libgcc-ng[version='>=7.5.0'] -> _libgcc_mutex=[build=main]\n",
            "sqlite==3.31.1=h62c20be_1 -> libgcc-ng[version='>=7.3.0'] -> _libgcc_mutex=[build=main]\n",
            "libtiff -> libgcc-ng[version='>=7.5.0'] -> _libgcc_mutex=[build=main]\n",
            "libedit==3.1.20181209=hc058e9b_0 -> libgcc-ng[version='>=7.3.0'] -> _libgcc_mutex=[build=main]\n",
            "xorg-libice -> libgcc-ng[version='>=7.3.0'] -> _libgcc_mutex=[build=main]\n",
            "pcre -> libgcc-ng[version='>=7.3.0'] -> _libgcc_mutex=[build=main]\n",
            "boost -> libgcc-ng[version='>=7.5.0'] -> _libgcc_mutex=[build=main]\n",
            "xorg-xextproto -> libgcc-ng[version='>=7.3.0'] -> _libgcc_mutex=[build=main]\n",
            "cairo -> libgcc-ng[version='>=7.5.0'] -> _libgcc_mutex=[build=main]\n",
            "matplotlib-base -> libgcc-ng[version='>=7.3.0'] -> _libgcc_mutex=[build=main]\n",
            "icu -> libgcc-ng[version='>=7.3.0'] -> _libgcc_mutex=[build=main]\n",
            "cffi==1.14.0=py37he30daa8_1 -> libgcc-ng[version='>=7.3.0'] -> _libgcc_mutex=[build=main]\n",
            "yaml==0.1.7=had09818_2 -> libgcc-ng[version='>=7.2.0'] -> _libgcc_mutex=[build=main]\n",
            "openssl==1.1.1g=h7b6447c_0 -> libgcc-ng[version='>=7.3.0'] -> _libgcc_mutex=[build=main]\n",
            "libxcb -> libgcc-ng[version='>=7.3.0'] -> _libgcc_mutex=[build=main]\n",
            "kiwisolver -> libgcc-ng[version='>=7.5.0'] -> _libgcc_mutex=[build=main]\n",
            "lz4-c -> libgcc-ng[version='>=7.5.0'] -> _libgcc_mutex=[build=main]\n",
            "xorg-xproto -> libgcc-ng[version='>=7.3.0'] -> _libgcc_mutex=[build=main]\n",
            "tornado -> libgcc-ng[version='>=7.5.0'] -> _libgcc_mutex=[build=main]\n",
            "freetype -> libgcc-ng[version='>=7.5.0'] -> _libgcc_mutex=[build=main]\n",
            "rdkit -> libgcc-ng[version='>=7.5.0'] -> _libgcc_mutex=[build=main]\n",
            "pandas -> libgcc-ng[version='>=7.5.0'] -> _libgcc_mutex=[build=main]\n",
            "reportlab -> libgcc-ng[version='>=7.5.0'] -> _libgcc_mutex=[build=main]\n",
            "pixman -> libgcc-ng[version='>=7.3.0'] -> _libgcc_mutex=[build=main]\n",
            "ncurses==6.2=he6710b0_1 -> libgcc-ng[version='>=7.3.0'] -> _libgcc_mutex=[build=main]\n",
            "xorg-renderproto -> libgcc-ng[version='>=7.3.0'] -> _libgcc_mutex=[build=main]\n",
            "bzip2 -> libgcc-ng[version='>=7.5.0'] -> _libgcc_mutex=[build=main]\n",
            "pycairo -> libgcc-ng[version='>=7.5.0'] -> _libgcc_mutex=[build=main]\n",
            "xorg-libxext -> libgcc-ng[version='>=7.3.0'] -> _libgcc_mutex=[build=main]\n",
            "xz==5.2.5=h7b6447c_0 -> libgcc-ng[version='>=7.3.0'] -> _libgcc_mutex=[build=main]\n",
            "libffi==3.3=he6710b0_1 -> libgcc-ng[version='>=7.3.0'] -> _libgcc_mutex=[build=main]\n",
            "boost-cpp -> libgcc-ng[version='>=7.5.0'] -> _libgcc_mutex=[build=main]\n",
            "libxml2 -> libgcc-ng[version='>=7.5.0'] -> _libgcc_mutex=[build=main]\n",
            "glib -> libgcc-ng[version='>=7.3.0'] -> _libgcc_mutex=[build=main]\n",
            "_libgcc_mutex==0.1=main\n",
            "libopenblas -> libgcc-ng[version='>=7.5.0'] -> _libgcc_mutex=[build=main]\n",
            "ruamel_yaml==0.15.87=py37h7b6447c_0 -> libgcc-ng[version='>=7.3.0'] -> _libgcc_mutex=[build=main]\n",
            "numpy -> libgcc-ng[version='>=7.5.0'] -> _libgcc_mutex=[build=main]\n",
            "xorg-libxrender -> libgcc-ng[version='>=7.3.0'] -> _libgcc_mutex=[build=main]\n",
            "fontconfig -> libgcc-ng[version='>=7.5.0'] -> _libgcc_mutex=[build=main]\n",
            "libwebp-base -> libgcc-ng[version='>=7.5.0'] -> _libgcc_mutex=[build=main]\n",
            "zstd -> libgcc-ng[version='>=7.5.0'] -> _libgcc_mutex=[build=main]\n",
            "xorg-libx11 -> libgcc-ng[version='>=7.5.0'] -> _libgcc_mutex=[build=main]\n",
            "libuuid -> libgcc-ng[version='>=7.3.0'] -> _libgcc_mutex=[build=main]\n",
            "cryptography==2.9.2=py37h1ba5d50_0 -> libgcc-ng[version='>=7.3.0'] -> _libgcc_mutex=[build=main]\n",
            "libpng -> libgcc-ng[version='>=7.5.0'] -> _libgcc_mutex=[build=main]\n",
            "readline==8.0=h7b6447c_0 -> libgcc-ng[version='>=7.3.0'] -> _libgcc_mutex=[build=main]\n",
            "xorg-libxdmcp -> libgcc-ng[version='>=7.3.0'] -> _libgcc_mutex=[build=main]\n",
            "pycosat==0.6.3=py37h7b6447c_0 -> libgcc-ng[version='>=7.3.0'] -> _libgcc_mutex=[build=main]\n",
            "pthread-stubs -> libgcc-ng[version='>=7.5.0'] -> _libgcc_mutex=[build=main]\n",
            "pillow -> libgcc-ng[version='>=7.3.0'] -> _libgcc_mutex=[build=main]\n",
            "\n",
            "Package openssl conflicts for:\n",
            "boost -> python[version='>=3.7,<3.8.0a0'] -> openssl[version='>=1.1.1g,<1.1.2a']\n",
            "setuptools==46.4.0=py37_0 -> python[version='>=3.7,<3.8.0a0'] -> openssl[version='>=1.1.1g,<1.1.2a']\n",
            "urllib3==1.25.8=py37_0 -> cryptography[version='>=1.3.4'] -> openssl[version='>=1.1.1g,<1.1.2a']\n",
            "sqlalchemy -> python[version='>=3.7,<3.8.0a0'] -> openssl[version='>=1.1.1g,<1.1.2a']\n",
            "numpy -> python[version='>=3.7,<3.8.0a0'] -> openssl[version='>=1.1.1g,<1.1.2a']\n",
            "cffi==1.14.0=py37he30daa8_1 -> python[version='>=3.7,<3.8.0a0'] -> openssl[version='>=1.1.1g,<1.1.2a']\n",
            "pycparser==2.20=py_0 -> python -> openssl[version='>=1.1.1g,<1.1.2a']\n",
            "python==3.7.7=hcff3b4d_5 -> openssl[version='>=1.1.1g,<1.1.2a']\n",
            "pyopenssl==19.1.0=py37_0 -> cryptography[version='>=2.8'] -> openssl[version='>=1.1.1g,<1.1.2a']\n",
            "ruamel_yaml==0.15.87=py37h7b6447c_0 -> python[version='>=3.7,<3.8.0a0'] -> openssl[version='>=1.1.1g,<1.1.2a']\n",
            "olefile -> python -> openssl[version='>=1.1.1g,<1.1.2a']\n",
            "python_abi -> python=3.7 -> openssl[version='>=1.1.1g,<1.1.2a']\n",
            "cycler -> python -> openssl[version='>=1.1.1g,<1.1.2a']\n",
            "kiwisolver -> python[version='>=3.7,<3.8.0a0'] -> openssl[version='>=1.1.1g,<1.1.2a']\n",
            "chardet==3.0.4=py37_1003 -> python[version='>=3.7,<3.8.0a0'] -> openssl[version='>=1.1.1g,<1.1.2a']\n",
            "six==1.14.0=py37_0 -> python[version='>=3.7,<3.8.0a0'] -> openssl[version='>=1.1.1g,<1.1.2a']\n",
            "tqdm==4.46.0=py_0 -> python -> openssl[version='>=1.1.1g,<1.1.2a']\n",
            "openssl==1.1.1g=h7b6447c_0\n",
            "pillow -> python[version='>=3.7,<3.8.0a0'] -> openssl[version='>=1.1.1g,<1.1.2a']\n",
            "requests==2.23.0=py37_0 -> python[version='>=3.7,<3.8.0a0'] -> openssl[version='>=1.1.1g,<1.1.2a']\n",
            "python-dateutil -> python -> openssl[version='>=1.1.1g,<1.1.2a']\n",
            "pytz -> python[version='>=3'] -> openssl[version='>=1.1.1g,<1.1.2a']\n",
            "rdkit -> python[version='>=3.7,<3.8.0a0'] -> openssl[version='>=1.1.1g,<1.1.2a']\n",
            "tornado -> python[version='>=3.7,<3.8.0a0'] -> openssl[version='>=1.1.1g,<1.1.2a']\n",
            "conda-package-handling==1.6.1=py37h7b6447c_0 -> python[version='>=3.7,<3.8.0a0'] -> openssl[version='>=1.1.1g,<1.1.2a']\n",
            "wheel==0.34.2=py37_0 -> python[version='>=3.7,<3.8.0a0'] -> openssl[version='>=1.1.1g,<1.1.2a']\n",
            "pip==20.0.2=py37_3 -> python[version='>=3.7,<3.8.0a0'] -> openssl[version='>=1.1.1g,<1.1.2a']\n",
            "idna==2.9=py_1 -> python -> openssl[version='>=1.1.1g,<1.1.2a']\n",
            "pandas -> python[version='>=3.7,<3.8.0a0'] -> openssl[version='>=1.1.1g,<1.1.2a']\n",
            "certifi==2020.4.5.1=py37_0 -> python[version='>=3.7,<3.8.0a0'] -> openssl[version='>=1.1.1g,<1.1.2a']\n",
            "matplotlib-base -> python[version='>=3.7,<3.8.0a0'] -> openssl[version='>=1.1.1g,<1.1.2a']\n",
            "pycosat==0.6.3=py37h7b6447c_0 -> python[version='>=3.7,<3.8.0a0'] -> openssl[version='>=1.1.1g,<1.1.2a']\n",
            "pyparsing -> python -> openssl[version='>=1.1.1g,<1.1.2a']\n",
            "cryptography==2.9.2=py37h1ba5d50_0 -> openssl[version='>=1.1.1g,<1.1.2a']\n",
            "pysocks==1.7.1=py37_0 -> python[version='>=3.7,<3.8.0a0'] -> openssl[version='>=1.1.1g,<1.1.2a']\n",
            "reportlab -> python[version='>=3.7,<3.8.0a0'] -> openssl[version='>=1.1.1g,<1.1.2a']\n",
            "conda==4.8.3=py37_0 -> python[version='>=3.7,<3.8.0a0'] -> openssl[version='>=1.1.1g,<1.1.2a']\n",
            "pycairo -> python[version='>=3.7,<3.8.0a0'] -> openssl[version='>=1.1.1g,<1.1.2a']\n",
            "\n",
            "Package xorg-libice conflicts for:\n",
            "xorg-libsm -> xorg-libice=1.0\n",
            "pycairo -> cairo[version='>=1.16.0,<1.17.0a0'] -> xorg-libice\n",
            "xorg-libice\n",
            "cairo -> xorg-libice\n",
            "rdkit -> cairo[version='>=1.16.0,<1.17.0a0'] -> xorg-libice\n",
            "cairo -> xorg-libsm -> xorg-libice=1.0\n",
            "\n",
            "Package sqlite conflicts for:\n",
            "numpy -> python[version='>=3.7,<3.8.0a0'] -> sqlite[version='>=3.31.1,<4.0a0']\n",
            "rdkit -> python[version='>=3.7,<3.8.0a0'] -> sqlite[version='>=3.31.1,<4.0a0']\n",
            "python==3.7.7=hcff3b4d_5 -> sqlite[version='>=3.31.1,<4.0a0']\n",
            "pycparser==2.20=py_0 -> python -> sqlite[version='>=3.31.1,<4.0a0']\n",
            "python-dateutil -> python -> sqlite[version='>=3.31.1,<4.0a0']\n",
            "certifi==2020.4.5.1=py37_0 -> python[version='>=3.7,<3.8.0a0'] -> sqlite[version='>=3.31.1,<4.0a0']\n",
            "pyparsing -> python -> sqlite[version='>=3.31.1,<4.0a0']\n",
            "tqdm==4.46.0=py_0 -> python -> sqlite[version='>=3.31.1,<4.0a0']\n",
            "ruamel_yaml==0.15.87=py37h7b6447c_0 -> python[version='>=3.7,<3.8.0a0'] -> sqlite[version='>=3.31.1,<4.0a0']\n",
            "wheel==0.34.2=py37_0 -> python[version='>=3.7,<3.8.0a0'] -> sqlite[version='>=3.31.1,<4.0a0']\n",
            "idna==2.9=py_1 -> python -> sqlite[version='>=3.31.1,<4.0a0']\n",
            "cycler -> python -> sqlite[version='>=3.31.1,<4.0a0']\n",
            "pandas -> python[version='>=3.7,<3.8.0a0'] -> sqlite[version='>=3.31.1,<4.0a0']\n",
            "chardet==3.0.4=py37_1003 -> python[version='>=3.7,<3.8.0a0'] -> sqlite[version='>=3.31.1,<4.0a0']\n",
            "six==1.14.0=py37_0 -> python[version='>=3.7,<3.8.0a0'] -> sqlite[version='>=3.31.1,<4.0a0']\n",
            "pytz -> python[version='>=3'] -> sqlite[version='>=3.31.1,<4.0a0']\n",
            "requests==2.23.0=py37_0 -> python[version='>=3.7,<3.8.0a0'] -> sqlite[version='>=3.31.1,<4.0a0']\n",
            "cffi==1.14.0=py37he30daa8_1 -> python[version='>=3.7,<3.8.0a0'] -> sqlite[version='>=3.31.1,<4.0a0']\n",
            "matplotlib-base -> python[version='>=3.7,<3.8.0a0'] -> sqlite[version='>=3.31.1,<4.0a0']\n",
            "urllib3==1.25.8=py37_0 -> python[version='>=3.7,<3.8.0a0'] -> sqlite[version='>=3.31.1,<4.0a0']\n",
            "tornado -> python[version='>=3.7,<3.8.0a0'] -> sqlite[version='>=3.31.1,<4.0a0']\n",
            "sqlite==3.31.1=h62c20be_1\n",
            "conda==4.8.3=py37_0 -> python[version='>=3.7,<3.8.0a0'] -> sqlite[version='>=3.31.1,<4.0a0']\n",
            "conda-package-handling==1.6.1=py37h7b6447c_0 -> python[version='>=3.7,<3.8.0a0'] -> sqlite[version='>=3.31.1,<4.0a0']\n",
            "pyopenssl==19.1.0=py37_0 -> python[version='>=3.7,<3.8.0a0'] -> sqlite[version='>=3.31.1,<4.0a0']\n",
            "sqlalchemy -> python[version='>=3.7,<3.8.0a0'] -> sqlite[version='>=3.31.1,<4.0a0']\n",
            "boost -> python[version='>=3.7,<3.8.0a0'] -> sqlite[version='>=3.31.1,<4.0a0']\n",
            "pip==20.0.2=py37_3 -> python[version='>=3.7,<3.8.0a0'] -> sqlite[version='>=3.31.1,<4.0a0']\n",
            "cryptography==2.9.2=py37h1ba5d50_0 -> python[version='>=3.7,<3.8.0a0'] -> sqlite[version='>=3.31.1,<4.0a0']\n",
            "pycosat==0.6.3=py37h7b6447c_0 -> python[version='>=3.7,<3.8.0a0'] -> sqlite[version='>=3.31.1,<4.0a0']\n",
            "pysocks==1.7.1=py37_0 -> python[version='>=3.7,<3.8.0a0'] -> sqlite[version='>=3.31.1,<4.0a0']\n",
            "reportlab -> python[version='>=3.7,<3.8.0a0'] -> sqlite[version='>=3.31.1,<4.0a0']\n",
            "olefile -> python -> sqlite[version='>=3.31.1,<4.0a0']\n",
            "kiwisolver -> python[version='>=3.7,<3.8.0a0'] -> sqlite[version='>=3.31.1,<4.0a0']\n",
            "pycairo -> python[version='>=3.7,<3.8.0a0'] -> sqlite[version='>=3.31.1,<4.0a0']\n",
            "setuptools==46.4.0=py37_0 -> python[version='>=3.7,<3.8.0a0'] -> sqlite[version='>=3.31.1,<4.0a0']\n",
            "python_abi -> python=3.7 -> sqlite[version='>=3.31.1,<4.0a0']\n",
            "pillow -> python[version='>=3.7,<3.8.0a0'] -> sqlite[version='>=3.31.1,<4.0a0']\n",
            "\n",
            "Package xorg-renderproto conflicts for:\n",
            "cairo -> xorg-libxrender -> xorg-renderproto\n",
            "xorg-renderproto\n",
            "xorg-libxrender -> xorg-renderproto\n",
            "\n",
            "Package xz conflicts for:\n",
            "fontconfig -> libxml2[version='>=2.9.10,<2.10.0a0'] -> xz[version='>=5.2.5,<5.3.0a0']\n",
            "six==1.14.0=py37_0 -> python[version='>=3.7,<3.8.0a0'] -> xz[version='>=5.2.5,<6.0a0']\n",
            "boost -> boost-cpp=1.74.0 -> xz[version='>=5.2.5,<5.3.0a0|>=5.2.5,<6.0a0']\n",
            "numpy -> python[version='>=3.7,<3.8.0a0'] -> xz[version='>=5.2.5,<6.0a0']\n",
            "tqdm==4.46.0=py_0 -> python -> xz[version='>=5.2.5,<6.0a0']\n",
            "idna==2.9=py_1 -> python -> xz[version='>=5.2.5,<6.0a0']\n",
            "python==3.7.7=hcff3b4d_5 -> xz[version='>=5.2.5,<6.0a0']\n",
            "requests==2.23.0=py37_0 -> python[version='>=3.7,<3.8.0a0'] -> xz[version='>=5.2.5,<6.0a0']\n",
            "certifi==2020.4.5.1=py37_0 -> python[version='>=3.7,<3.8.0a0'] -> xz[version='>=5.2.5,<6.0a0']\n",
            "pytz -> python[version='>=3'] -> xz[version='>=5.2.5,<6.0a0']\n",
            "xz==5.2.5=h7b6447c_0\n",
            "matplotlib-base -> python[version='>=3.7,<3.8.0a0'] -> xz[version='>=5.2.5,<6.0a0']\n",
            "pysocks==1.7.1=py37_0 -> python[version='>=3.7,<3.8.0a0'] -> xz[version='>=5.2.5,<6.0a0']\n",
            "ruamel_yaml==0.15.87=py37h7b6447c_0 -> python[version='>=3.7,<3.8.0a0'] -> xz[version='>=5.2.5,<6.0a0']\n",
            "urllib3==1.25.8=py37_0 -> python[version='>=3.7,<3.8.0a0'] -> xz[version='>=5.2.5,<6.0a0']\n",
            "pyparsing -> python -> xz[version='>=5.2.5,<6.0a0']\n",
            "tornado -> python[version='>=3.7,<3.8.0a0'] -> xz[version='>=5.2.5,<6.0a0']\n",
            "conda==4.8.3=py37_0 -> python[version='>=3.7,<3.8.0a0'] -> xz[version='>=5.2.5,<6.0a0']\n",
            "pandas -> python[version='>=3.7,<3.8.0a0'] -> xz[version='>=5.2.5,<6.0a0']\n",
            "cycler -> python -> xz[version='>=5.2.5,<6.0a0']\n",
            "sqlalchemy -> python[version='>=3.7,<3.8.0a0'] -> xz[version='>=5.2.5,<6.0a0']\n",
            "pip==20.0.2=py37_3 -> python[version='>=3.7,<3.8.0a0'] -> xz[version='>=5.2.5,<6.0a0']\n",
            "cffi==1.14.0=py37he30daa8_1 -> python[version='>=3.7,<3.8.0a0'] -> xz[version='>=5.2.5,<6.0a0']\n",
            "pycosat==0.6.3=py37h7b6447c_0 -> python[version='>=3.7,<3.8.0a0'] -> xz[version='>=5.2.5,<6.0a0']\n",
            "pillow -> libtiff[version='>=4.1.0,<5.0a0'] -> xz[version='>=5.2.5,<5.3.0a0|>=5.2.5,<6.0a0']\n",
            "lcms2 -> libtiff[version='>=4.1.0,<5.0a0'] -> xz[version='>=5.2.5,<5.3.0a0']\n",
            "reportlab -> python[version='>=3.7,<3.8.0a0'] -> xz[version='>=5.2.5,<6.0a0']\n",
            "cryptography==2.9.2=py37h1ba5d50_0 -> python[version='>=3.7,<3.8.0a0'] -> xz[version='>=5.2.5,<6.0a0']\n",
            "pyopenssl==19.1.0=py37_0 -> python[version='>=3.7,<3.8.0a0'] -> xz[version='>=5.2.5,<6.0a0']\n",
            "libtiff -> xz[version='>=5.2.5,<5.3.0a0']\n",
            "libxml2 -> xz[version='>=5.2.5,<5.3.0a0']\n",
            "chardet==3.0.4=py37_1003 -> python[version='>=3.7,<3.8.0a0'] -> xz[version='>=5.2.5,<6.0a0']\n",
            "setuptools==46.4.0=py37_0 -> python[version='>=3.7,<3.8.0a0'] -> xz[version='>=5.2.5,<6.0a0']\n",
            "pycparser==2.20=py_0 -> python -> xz[version='>=5.2.5,<6.0a0']\n",
            "rdkit -> python[version='>=3.7,<3.8.0a0'] -> xz[version='>=5.2.5,<6.0a0']\n",
            "pycairo -> python[version='>=3.7,<3.8.0a0'] -> xz[version='>=5.2.5,<6.0a0']\n",
            "boost-cpp -> xz[version='>=5.2.5,<5.3.0a0']\n",
            "python_abi -> python=3.7 -> xz[version='>=5.2.5,<6.0a0']\n",
            "python-dateutil -> python -> xz[version='>=5.2.5,<6.0a0']\n",
            "wheel==0.34.2=py37_0 -> python[version='>=3.7,<3.8.0a0'] -> xz[version='>=5.2.5,<6.0a0']\n",
            "olefile -> python -> xz[version='>=5.2.5,<6.0a0']\n",
            "zstd -> xz[version='>=5.2.5,<5.3.0a0']\n",
            "kiwisolver -> python[version='>=3.7,<3.8.0a0'] -> xz[version='>=5.2.5,<6.0a0']\n",
            "conda-package-handling==1.6.1=py37h7b6447c_0 -> python[version='>=3.7,<3.8.0a0'] -> xz[version='>=5.2.5,<6.0a0']\n",
            "\n",
            "Package libstdcxx-ng conflicts for:\n",
            "zstd -> libstdcxx-ng[version='>=7.5.0']\n",
            "glib -> libstdcxx-ng[version='>=7.3.0']\n",
            "libstdcxx-ng==9.1.0=hdf63c60_0\n",
            "cairo -> glib[version='>=2.58.3,<3.0a0'] -> libstdcxx-ng[version='>=7.3.0']\n",
            "pillow -> libtiff[version='>=4.1.0,<5.0a0'] -> libstdcxx-ng[version='>=7.5.0']\n",
            "rdkit -> libstdcxx-ng[version='>=7.5.0']\n",
            "pcre -> libstdcxx-ng[version='>=7.3.0']\n",
            "libedit==3.1.20181209=hc058e9b_0 -> ncurses[version='>=6.1,<7.0a0'] -> libstdcxx-ng[version='>=7.3.0']\n",
            "ncurses==6.2=he6710b0_1 -> libstdcxx-ng[version='>=7.3.0']\n",
            "matplotlib-base -> kiwisolver[version='>=1.0.1'] -> libstdcxx-ng[version='>=7.5.0']\n",
            "libxml2 -> icu[version='>=67.1,<68.0a0'] -> libstdcxx-ng[version='>=7.3.0']\n",
            "python==3.7.7=hcff3b4d_5 -> libffi[version='>=3.3,<3.4.0a0'] -> libstdcxx-ng[version='>=7.3.0']\n",
            "icu -> libstdcxx-ng[version='>=7.3.0']\n",
            "libtiff -> libstdcxx-ng[version='>=7.5.0']\n",
            "pandas -> libstdcxx-ng[version='>=7.5.0']\n",
            "readline==8.0=h7b6447c_0 -> ncurses[version='>=6.1,<7.0a0'] -> libstdcxx-ng[version='>=7.3.0']\n",
            "libffi==3.3=he6710b0_1 -> libstdcxx-ng[version='>=7.3.0']\n",
            "boost-cpp -> icu[version='>=67.1,<68.0a0'] -> libstdcxx-ng[version='>=7.3.0']\n",
            "rdkit -> matplotlib-base -> libstdcxx-ng[version='>=7.3.0']\n",
            "boost -> libstdcxx-ng[version='>=7.5.0']\n",
            "sqlite==3.31.1=h62c20be_1 -> ncurses[version='>=6.2,<7.0a0'] -> libstdcxx-ng[version='>=7.3.0']\n",
            "kiwisolver -> libstdcxx-ng[version='>=7.5.0']\n",
            "lz4-c -> libstdcxx-ng[version='>=7.5.0']\n",
            "matplotlib-base -> libstdcxx-ng[version='>=7.3.0']\n",
            "fontconfig -> icu[version='>=67.1,<68.0a0'] -> libstdcxx-ng[version='>=7.3.0']\n",
            "boost-cpp -> libstdcxx-ng[version='>=7.5.0']\n",
            "lcms2 -> libtiff[version='>=4.1.0,<5.0a0'] -> libstdcxx-ng[version='>=7.5.0']\n",
            "cffi==1.14.0=py37he30daa8_1 -> libffi[version='>=3.3,<3.4.0a0'] -> libstdcxx-ng[version='>=7.3.0']\n",
            "\n",
            "Package libgcc-ng conflicts for:\n",
            "libpng -> zlib[version='>=1.2.11,<1.3.0a0'] -> libgcc-ng[version='>=7.3.0']\n",
            "xorg-libsm -> libgcc-ng[version='>=7.3.0']\n",
            "six==1.14.0=py37_0 -> python[version='>=3.7,<3.8.0a0'] -> libgcc-ng[version='>=7.3.0']\n",
            "numpy -> python[version='>=3.7,<3.8.0a0'] -> libgcc-ng[version='>=7.3.0']\n",
            "tqdm==4.46.0=py_0 -> python -> libgcc-ng[version='>=7.3.0']\n",
            "xorg-libxext -> libgcc-ng[version='>=7.3.0']\n",
            "xorg-libxrender -> xorg-libx11=1.6 -> libgcc-ng[version='>=7.5.0']\n",
            "libuuid -> libgcc-ng[version='>=7.3.0']\n",
            "zstd -> xz[version='>=5.2.5,<5.3.0a0'] -> libgcc-ng[version='>=7.3.0']\n",
            "idna==2.9=py_1 -> python -> libgcc-ng[version='>=7.3.0']\n",
            "requests==2.23.0=py37_0 -> python[version='>=3.7,<3.8.0a0'] -> libgcc-ng[version='>=7.3.0']\n",
            "pandas -> python[version='>=3.7,<3.8.0a0'] -> libgcc-ng[version='>=7.3.0']\n",
            "certifi==2020.4.5.1=py37_0 -> python[version='>=3.7,<3.8.0a0'] -> libgcc-ng[version='>=7.3.0']\n",
            "python==3.7.7=hcff3b4d_5 -> libgcc-ng[version='>=7.3.0']\n",
            "boost-cpp -> icu[version='>=67.1,<68.0a0'] -> libgcc-ng[version='>=7.3.0']\n",
            "matplotlib-base -> libgcc-ng[version='>=7.3.0']\n",
            "kiwisolver -> libgcc-ng[version='>=7.5.0']\n",
            "freetype -> libgcc-ng[version='>=7.5.0']\n",
            "lz4-c -> libgcc-ng[version='>=7.5.0']\n",
            "xorg-libice -> libgcc-ng[version='>=7.3.0']\n",
            "pytz -> python[version='>=3'] -> libgcc-ng[version='>=7.3.0']\n",
            "libopenblas -> libgcc-ng[version='>=7.5.0']\n",
            "pyparsing -> python -> libgcc-ng[version='>=7.3.0']\n",
            "glib -> libgcc-ng[version='>=7.3.0']\n",
            "ruamel_yaml==0.15.87=py37h7b6447c_0 -> libgcc-ng[version='>=7.3.0']\n",
            "pysocks==1.7.1=py37_0 -> python[version='>=3.7,<3.8.0a0'] -> libgcc-ng[version='>=7.3.0']\n",
            "xorg-libxrender -> libgcc-ng[version='>=7.3.0']\n",
            "xz==5.2.5=h7b6447c_0 -> libgcc-ng[version='>=7.3.0']\n",
            "cryptography==2.9.2=py37h1ba5d50_0 -> libgcc-ng[version='>=7.3.0']\n",
            "xorg-libx11 -> libgcc-ng[version='>=7.5.0']\n",
            "numpy -> libgcc-ng[version='>=7.5.0']\n",
            "pycairo -> python[version='>=3.7,<3.8.0a0'] -> libgcc-ng[version='>=7.3.0']\n",
            "urllib3==1.25.8=py37_0 -> cryptography[version='>=1.3.4'] -> libgcc-ng[version='>=7.3.0']\n",
            "pillow -> freetype[version='>=2.10.4,<3.0a0'] -> libgcc-ng[version='>=7.5.0']\n",
            "sqlalchemy -> python[version='>=3.7,<3.8.0a0'] -> libgcc-ng[version='>=7.3.0']\n",
            "libxcb -> pthread-stubs -> libgcc-ng[version='>=7.5.0']\n",
            "readline==8.0=h7b6447c_0 -> libgcc-ng[version='>=7.3.0']\n",
            "boost -> libgcc-ng[version='>=7.5.0']\n",
            "libtiff -> xz[version='>=5.2.5,<5.3.0a0'] -> libgcc-ng[version='>=7.3.0']\n",
            "cairo -> glib[version='>=2.58.3,<3.0a0'] -> libgcc-ng[version='>=7.3.0']\n",
            "conda-package-handling==1.6.1=py37h7b6447c_0 -> libgcc-ng[version='>=7.3.0']\n",
            "tornado -> python[version='>=3.7,<3.8.0a0'] -> libgcc-ng[version='>=7.3.0']\n",
            "pthread-stubs -> libgcc-ng[version='>=7.5.0']\n",
            "libblas -> libopenblas[version='>=0.3.12,<0.3.13.0a0'] -> libgcc-ng[version='>=7.5.0']\n",
            "setuptools==46.4.0=py37_0 -> python[version='>=3.7,<3.8.0a0'] -> libgcc-ng[version='>=7.3.0']\n",
            "cairo -> libgcc-ng[version='>=7.5.0']\n",
            "xorg-libx11 -> libxcb=1 -> libgcc-ng[version='>=7.3.0']\n",
            "reportlab -> libgcc-ng[version='>=7.5.0']\n",
            "pycairo -> libgcc-ng[version='>=7.5.0']\n",
            "libiconv -> libgcc-ng[version='>=7.5.0']\n",
            "boost-cpp -> libgcc-ng[version='>=7.5.0']\n",
            "libgcc-ng==9.1.0=hdf63c60_0\n",
            "yaml==0.1.7=had09818_2 -> libgcc-ng[version='>=7.2.0']\n",
            "libpng -> libgcc-ng[version='>=7.5.0']\n",
            "sqlalchemy -> libgcc-ng[version='>=7.5.0']\n",
            "zstd -> libgcc-ng[version='>=7.5.0']\n",
            "pip==20.0.2=py37_3 -> python[version='>=3.7,<3.8.0a0'] -> libgcc-ng[version='>=7.3.0']\n",
            "pcre -> libgcc-ng[version='>=7.3.0']\n",
            "pycosat==0.6.3=py37h7b6447c_0 -> libgcc-ng[version='>=7.3.0']\n",
            "reportlab -> pillow[version='>=2.4.0'] -> libgcc-ng[version='>=7.3.0']\n",
            "conda==4.8.3=py37_0 -> conda-package-handling[version='>=1.3.0'] -> libgcc-ng[version='>=7.3.0']\n",
            "xorg-xextproto -> libgcc-ng[version='>=7.3.0']\n",
            "ncurses==6.2=he6710b0_1 -> libgcc-ng[version='>=7.3.0']\n",
            "libwebp-base -> libgcc-ng[version='>=7.5.0']\n",
            "rdkit -> libgcc-ng[version='>=7.5.0']\n",
            "pillow -> libgcc-ng[version='>=7.3.0']\n",
            "bzip2 -> libgcc-ng[version='>=7.5.0']\n",
            "pixman -> libgcc-ng[version='>=7.3.0']\n",
            "sqlite==3.31.1=h62c20be_1 -> libgcc-ng[version='>=7.3.0']\n",
            "fontconfig -> libgcc-ng[version='>=7.5.0']\n",
            "boost -> python[version='>=3.7,<3.8.0a0'] -> libgcc-ng[version='>=7.3.0']\n",
            "fontconfig -> icu[version='>=67.1,<68.0a0'] -> libgcc-ng[version='>=7.3.0']\n",
            "ruamel_yaml==0.15.87=py37h7b6447c_0 -> yaml[version='>=0.1.7,<0.2.0a0'] -> libgcc-ng[version='>=7.2.0']\n",
            "pyopenssl==19.1.0=py37_0 -> cryptography[version='>=2.8'] -> libgcc-ng[version='>=7.3.0']\n",
            "lcms2 -> libgcc-ng[version='>=7.5.0']\n",
            "cffi==1.14.0=py37he30daa8_1 -> libgcc-ng[version='>=7.3.0']\n",
            "kiwisolver -> python[version='>=3.7,<3.8.0a0'] -> libgcc-ng[version='>=7.3.0']\n",
            "python==3.7.7=hcff3b4d_5 -> openssl[version='>=1.1.1g,<1.1.2a'] -> libgcc-ng[version='>=7.5.0']\n",
            "cryptography==2.9.2=py37h1ba5d50_0 -> openssl[version='>=1.1.1g,<1.1.2a'] -> libgcc-ng[version='>=7.5.0']\n",
            "olefile -> python -> libgcc-ng[version='>=7.3.0']\n",
            "python_abi -> python=3.7 -> libgcc-ng[version='>=7.3.0']\n",
            "pycparser==2.20=py_0 -> python -> libgcc-ng[version='>=7.3.0']\n",
            "cycler -> python -> libgcc-ng[version='>=7.3.0']\n",
            "matplotlib-base -> freetype[version='>=2.10.4,<3.0a0'] -> libgcc-ng[version='>=7.5.0']\n",
            "zlib==1.2.11=h7b6447c_3 -> libgcc-ng[version='>=7.3.0']\n",
            "libedit==3.1.20181209=hc058e9b_0 -> libgcc-ng[version='>=7.3.0']\n",
            "chardet==3.0.4=py37_1003 -> python[version='>=3.7,<3.8.0a0'] -> libgcc-ng[version='>=7.3.0']\n",
            "libffi==3.3=he6710b0_1 -> libgcc-ng[version='>=7.3.0']\n",
            "libxml2 -> libgcc-ng[version='>=7.5.0']\n",
            "xorg-renderproto -> libgcc-ng[version='>=7.3.0']\n",
            "libtiff -> libgcc-ng[version='>=7.5.0']\n",
            "xorg-libxdmcp -> libgcc-ng[version='>=7.3.0']\n",
            "xorg-kbproto -> libgcc-ng[version='>=7.3.0']\n",
            "jpeg -> libgcc-ng[version='>=7.5.0']\n",
            "pandas -> libgcc-ng[version='>=7.5.0']\n",
            "xorg-libxext -> xorg-libx11=1.6 -> libgcc-ng[version='>=7.5.0']\n",
            "openssl==1.1.1g=h7b6447c_0 -> libgcc-ng[version='>=7.3.0']\n",
            "rdkit -> matplotlib-base -> libgcc-ng[version='>=7.3.0']\n",
            "python-dateutil -> python -> libgcc-ng[version='>=7.3.0']\n",
            "libxml2 -> icu[version='>=67.1,<68.0a0'] -> libgcc-ng[version='>=7.3.0']\n",
            "tornado -> libgcc-ng[version='>=7.5.0']\n",
            "icu -> libgcc-ng[version='>=7.3.0']\n",
            "xorg-xproto -> libgcc-ng[version='>=7.3.0']\n",
            "libxcb -> libgcc-ng[version='>=7.3.0']\n",
            "freetype -> zlib[version='>=1.2.11,<1.3.0a0'] -> libgcc-ng[version='>=7.3.0']\n",
            "wheel==0.34.2=py37_0 -> python[version='>=3.7,<3.8.0a0'] -> libgcc-ng[version='>=7.3.0']\n",
            "xorg-libxau -> libgcc-ng[version='>=7.3.0']\n",
            "\n",
            "Package xorg-kbproto conflicts for:\n",
            "xorg-libxext -> xorg-libx11=1.6 -> xorg-kbproto\n",
            "xorg-kbproto\n",
            "cairo -> xorg-libx11 -> xorg-kbproto\n",
            "xorg-libxrender -> xorg-libx11=1.6 -> xorg-kbproto\n",
            "xorg-libx11 -> xorg-kbproto\n",
            "\n",
            "Package pillow conflicts for:\n",
            "rdkit -> pillow\n",
            "reportlab -> pillow[version='>=2.4.0']\n",
            "matplotlib-base -> pillow[version='>=6.2.0']\n",
            "rdkit -> matplotlib-base -> pillow[version='>=2.4.0|>=6.2.0']\n",
            "pillow\n",
            "\n",
            "Package libpng conflicts for:\n",
            "cairo -> libpng[version='>=1.6.37,<1.7.0a0']\n",
            "rdkit -> cairo[version='>=1.16.0,<1.17.0a0'] -> libpng[version='>=1.6.37,<1.7.0a0']\n",
            "freetype -> libpng[version='>=1.6.37,<1.7.0a0']\n",
            "fontconfig -> libpng[version='>=1.6.37,<1.7.0a0']\n",
            "pycairo -> cairo[version='>=1.16.0,<1.17.0a0'] -> libpng[version='>=1.6.37,<1.7.0a0']\n",
            "matplotlib-base -> freetype[version='>=2.10.4,<3.0a0'] -> libpng[version='>=1.6.37,<1.7.0a0']\n",
            "pillow -> freetype[version='>=2.10.4,<3.0a0'] -> libpng[version='>=1.6.37,<1.7.0a0']\n",
            "libpng\n",
            "reportlab -> freetype[version='>=2.10.4,<3.0a0'] -> libpng[version='>=1.6.37,<1.7.0a0']\n",
            "\n",
            "Package liblapack conflicts for:\n",
            "rdkit -> numpy[version='>=1.16.5,<2.0a0'] -> liblapack[version='>=3.8.0,<4.0a0']\n",
            "matplotlib-base -> numpy[version='>=1.15.4,<2.0a0'] -> liblapack[version='>=3.8.0,<4.0a0']\n",
            "numpy -> liblapack[version='>=3.8.0,<4.0a0']\n",
            "boost -> numpy[version='>=1.16.5,<2.0a0'] -> liblapack[version='>=3.8.0,<4.0a0']\n",
            "pandas -> numpy[version='>=1.16.5,<2.0a0'] -> liblapack[version='>=3.8.0,<4.0a0']\n",
            "liblapack\n",
            "\n",
            "Package icu conflicts for:\n",
            "boost -> boost-cpp=1.74.0 -> icu[version='>=67.1,<68.0a0']\n",
            "fontconfig -> icu[version='>=67.1,<68.0a0']\n",
            "rdkit -> cairo[version='>=1.16.0,<1.17.0a0'] -> icu[version='>=67.1,<68.0a0']\n",
            "cairo -> icu[version='>=67.1,<68.0a0']\n",
            "boost-cpp -> icu[version='>=67.1,<68.0a0']\n",
            "icu\n",
            "libxml2 -> icu[version='>=67.1,<68.0a0']\n",
            "pycairo -> cairo[version='>=1.16.0,<1.17.0a0'] -> icu[version='>=67.1,<68.0a0']\n",
            "\n",
            "Package python conflicts for:\n",
            "idna==2.9=py_1 -> python\n",
            "kiwisolver -> python_abi=3.7[build=*_cp37m] -> python=3.7\n",
            "rdkit -> python[version='>=3.7,<3.8.0a0']\n",
            "pycosat==0.6.3=py37h7b6447c_0 -> python[version='>=3.7,<3.8.0a0']\n",
            "setuptools==46.4.0=py37_0 -> python[version='>=3.7,<3.8.0a0']\n",
            "pysocks==1.7.1=py37_0 -> python[version='>=3.7,<3.8.0a0']\n",
            "pillow -> python[version='>=3.7,<3.8.0a0']\n",
            "cffi==1.14.0=py37he30daa8_1 -> python[version='>=3.7,<3.8.0a0']\n",
            "pycairo -> python_abi=3.7[build=*_cp37m] -> python=3.7\n",
            "python-dateutil -> python\n",
            "chardet==3.0.4=py37_1003 -> python[version='>=3.7,<3.8.0a0']\n",
            "sqlalchemy -> python[version='>=3.7,<3.8.0a0']\n",
            "kiwisolver -> python[version='>=3.7,<3.8.0a0']\n",
            "wheel==0.34.2=py37_0 -> python[version='>=3.7,<3.8.0a0']\n",
            "requests==2.23.0=py37_0 -> python[version='>=3.7,<3.8.0a0']\n",
            "tqdm==4.46.0=py_0 -> python\n",
            "pillow -> olefile -> python\n",
            "urllib3==1.25.8=py37_0 -> python[version='>=3.7,<3.8.0a0']\n",
            "cycler -> six -> python[version='>=3.7,<3.8.0a0']\n",
            "python==3.7.7=hcff3b4d_5\n",
            "python_abi -> python=3.7\n",
            "cryptography==2.9.2=py37h1ba5d50_0 -> idna -> python\n",
            "tornado -> python_abi=3.7[build=*_cp37m] -> python=3.7\n",
            "pandas -> python-dateutil[version='>=2.7.3'] -> python[version='3.7.*|>=3']\n",
            "cryptography==2.9.2=py37h1ba5d50_0 -> python[version='>=3.7,<3.8.0a0']\n",
            "numpy -> python_abi=3.7[build=*_cp37m] -> python=3.7\n",
            "sqlalchemy -> python_abi=3.7[build=*_cp37m] -> python=3.7\n",
            "olefile -> python\n",
            "cycler -> python\n",
            "pyparsing -> python\n",
            "ruamel_yaml==0.15.87=py37h7b6447c_0 -> python[version='>=3.7,<3.8.0a0']\n",
            "rdkit -> python_abi=3.7[build=*_cp37m] -> python=3.7\n",
            "pycparser==2.20=py_0 -> python\n",
            "tornado -> python[version='>=3.7,<3.8.0a0']\n",
            "matplotlib-base -> python[version='>=3.7,<3.8.0a0']\n",
            "matplotlib-base -> cycler[version='>=0.10'] -> python\n",
            "python-dateutil -> six -> python[version='>=3.7,<3.8.0a0']\n",
            "reportlab -> python_abi=3.7[build=*_cp37m] -> python=3.7\n",
            "urllib3==1.25.8=py37_0 -> idna[version='>=2.0.0'] -> python\n",
            "conda-package-handling==1.6.1=py37h7b6447c_0 -> python[version='>=3.7,<3.8.0a0']\n",
            "numpy -> python[version='>=3.7,<3.8.0a0']\n",
            "pip==20.0.2=py37_3 -> python[version='>=3.7,<3.8.0a0']\n",
            "boost -> python[version='>=3.7,<3.8.0a0']\n",
            "six==1.14.0=py37_0 -> python[version='>=3.7,<3.8.0a0']\n",
            "pytz -> python[version='>=3']\n",
            "conda==4.8.3=py37_0 -> python[version='>=3.7,<3.8.0a0']\n",
            "boost -> python_abi=3.7[build=*_cp37m] -> python=3.7\n",
            "pandas -> python[version='>=3.7,<3.8.0a0']\n",
            "reportlab -> python[version='>=3.7,<3.8.0a0']\n",
            "requests==2.23.0=py37_0 -> idna[version='>=2.5,<3'] -> python\n",
            "conda-package-handling==1.6.1=py37h7b6447c_0 -> tqdm -> python\n",
            "pycairo -> python[version='>=3.7,<3.8.0a0']\n",
            "certifi==2020.4.5.1=py37_0 -> python[version='>=3.7,<3.8.0a0']\n",
            "pyopenssl==19.1.0=py37_0 -> python[version='>=3.7,<3.8.0a0']\n",
            "cffi==1.14.0=py37he30daa8_1 -> pycparser -> python\n",
            "\n",
            "Package libopenblas conflicts for:\n",
            "libopenblas\n",
            "numpy -> libblas[version='>=3.8.0,<4.0a0'] -> libopenblas[version='>=0.3.12,<0.3.13.0a0|>=0.3.12,<1.0a0']\n",
            "liblapack -> libblas==3.9.0=3_openblas -> libopenblas[version='>=0.3.12,<0.3.13.0a0|>=0.3.12,<1.0a0']\n",
            "libblas -> libopenblas[version='>=0.3.12,<0.3.13.0a0|>=0.3.12,<1.0a0']\n",
            "libcblas -> libblas==3.9.0=3_openblas -> libopenblas[version='>=0.3.12,<0.3.13.0a0|>=0.3.12,<1.0a0']\n",
            "\n",
            "Package readline conflicts for:\n",
            "pycosat==0.6.3=py37h7b6447c_0 -> python[version='>=3.7,<3.8.0a0'] -> readline[version='>=8.0,<9.0a0']\n",
            "boost -> python[version='>=3.7,<3.8.0a0'] -> readline[version='>=8.0,<9.0a0']\n",
            "pyopenssl==19.1.0=py37_0 -> python[version='>=3.7,<3.8.0a0'] -> readline[version='>=8.0,<9.0a0']\n",
            "chardet==3.0.4=py37_1003 -> python[version='>=3.7,<3.8.0a0'] -> readline[version='>=8.0,<9.0a0']\n",
            "cryptography==2.9.2=py37h1ba5d50_0 -> python[version='>=3.7,<3.8.0a0'] -> readline[version='>=8.0,<9.0a0']\n",
            "pillow -> python[version='>=3.7,<3.8.0a0'] -> readline[version='>=8.0,<9.0a0']\n",
            "pycparser==2.20=py_0 -> python -> readline[version='>=8.0,<9.0a0']\n",
            "pysocks==1.7.1=py37_0 -> python[version='>=3.7,<3.8.0a0'] -> readline[version='>=8.0,<9.0a0']\n",
            "rdkit -> python[version='>=3.7,<3.8.0a0'] -> readline[version='>=8.0,<9.0a0']\n",
            "python-dateutil -> python -> readline[version='>=8.0,<9.0a0']\n",
            "readline==8.0=h7b6447c_0\n",
            "wheel==0.34.2=py37_0 -> python[version='>=3.7,<3.8.0a0'] -> readline[version='>=8.0,<9.0a0']\n",
            "olefile -> python -> readline[version='>=8.0,<9.0a0']\n",
            "reportlab -> python[version='>=3.7,<3.8.0a0'] -> readline[version='>=8.0,<9.0a0']\n",
            "pycairo -> python[version='>=3.7,<3.8.0a0'] -> readline[version='>=8.0,<9.0a0']\n",
            "python_abi -> python=3.7 -> readline[version='>=8.0,<9.0a0']\n",
            "conda-package-handling==1.6.1=py37h7b6447c_0 -> python[version='>=3.7,<3.8.0a0'] -> readline[version='>=8.0,<9.0a0']\n",
            "kiwisolver -> python[version='>=3.7,<3.8.0a0'] -> readline[version='>=8.0,<9.0a0']\n",
            "numpy -> python[version='>=3.7,<3.8.0a0'] -> readline[version='>=8.0,<9.0a0']\n",
            "urllib3==1.25.8=py37_0 -> python[version='>=3.7,<3.8.0a0'] -> readline[version='>=8.0,<9.0a0']\n",
            "six==1.14.0=py37_0 -> python[version='>=3.7,<3.8.0a0'] -> readline[version='>=8.0,<9.0a0']\n",
            "tqdm==4.46.0=py_0 -> python -> readline[version='>=8.0,<9.0a0']\n",
            "idna==2.9=py_1 -> python -> readline[version='>=8.0,<9.0a0']\n",
            "python==3.7.7=hcff3b4d_5 -> readline[version='>=8.0,<9.0a0']\n",
            "requests==2.23.0=py37_0 -> python[version='>=3.7,<3.8.0a0'] -> readline[version='>=8.0,<9.0a0']\n",
            "certifi==2020.4.5.1=py37_0 -> python[version='>=3.7,<3.8.0a0'] -> readline[version='>=8.0,<9.0a0']\n",
            "pyparsing -> python -> readline[version='>=8.0,<9.0a0']\n",
            "matplotlib-base -> python[version='>=3.7,<3.8.0a0'] -> readline[version='>=8.0,<9.0a0']\n",
            "ruamel_yaml==0.15.87=py37h7b6447c_0 -> python[version='>=3.7,<3.8.0a0'] -> readline[version='>=8.0,<9.0a0']\n",
            "cycler -> python -> readline[version='>=8.0,<9.0a0']\n",
            "conda==4.8.3=py37_0 -> python[version='>=3.7,<3.8.0a0'] -> readline[version='>=8.0,<9.0a0']\n",
            "tornado -> python[version='>=3.7,<3.8.0a0'] -> readline[version='>=8.0,<9.0a0']\n",
            "pandas -> python[version='>=3.7,<3.8.0a0'] -> readline[version='>=8.0,<9.0a0']\n",
            "setuptools==46.4.0=py37_0 -> python[version='>=3.7,<3.8.0a0'] -> readline[version='>=8.0,<9.0a0']\n",
            "sqlalchemy -> python[version='>=3.7,<3.8.0a0'] -> readline[version='>=8.0,<9.0a0']\n",
            "pytz -> python[version='>=3'] -> readline[version='>=8.0,<9.0a0']\n",
            "cffi==1.14.0=py37he30daa8_1 -> python[version='>=3.7,<3.8.0a0'] -> readline[version='>=8.0,<9.0a0']\n",
            "pip==20.0.2=py37_3 -> python[version='>=3.7,<3.8.0a0'] -> readline[version='>=8.0,<9.0a0']\n",
            "\n",
            "Package ncurses conflicts for:\n",
            "sqlite==3.31.1=h62c20be_1 -> libedit[version='>=3.1.20181209,<3.2.0a0'] -> ncurses[version='>=6.1,<7.0a0']\n",
            "pycparser==2.20=py_0 -> python -> ncurses[version='>=6.2,<7.0a0']\n",
            "pycosat==0.6.3=py37h7b6447c_0 -> python[version='>=3.7,<3.8.0a0'] -> ncurses[version='>=6.2,<7.0a0']\n",
            "olefile -> python -> ncurses[version='>=6.2,<7.0a0']\n",
            "pysocks==1.7.1=py37_0 -> python[version='>=3.7,<3.8.0a0'] -> ncurses[version='>=6.2,<7.0a0']\n",
            "sqlalchemy -> python[version='>=3.7,<3.8.0a0'] -> ncurses[version='>=6.2,<7.0a0']\n",
            "pycairo -> python[version='>=3.7,<3.8.0a0'] -> ncurses[version='>=6.2,<7.0a0']\n",
            "python-dateutil -> python -> ncurses[version='>=6.2,<7.0a0']\n",
            "kiwisolver -> python[version='>=3.7,<3.8.0a0'] -> ncurses[version='>=6.2,<7.0a0']\n",
            "wheel==0.34.2=py37_0 -> python[version='>=3.7,<3.8.0a0'] -> ncurses[version='>=6.2,<7.0a0']\n",
            "setuptools==46.4.0=py37_0 -> python[version='>=3.7,<3.8.0a0'] -> ncurses[version='>=6.2,<7.0a0']\n",
            "urllib3==1.25.8=py37_0 -> python[version='>=3.7,<3.8.0a0'] -> ncurses[version='>=6.2,<7.0a0']\n",
            "tornado -> python[version='>=3.7,<3.8.0a0'] -> ncurses[version='>=6.2,<7.0a0']\n",
            "python_abi -> python=3.7 -> ncurses[version='>=6.2,<7.0a0']\n",
            "pillow -> python[version='>=3.7,<3.8.0a0'] -> ncurses[version='>=6.2,<7.0a0']\n",
            "numpy -> python[version='>=3.7,<3.8.0a0'] -> ncurses[version='>=6.2,<7.0a0']\n",
            "tqdm==4.46.0=py_0 -> python -> ncurses[version='>=6.2,<7.0a0']\n",
            "libedit==3.1.20181209=hc058e9b_0 -> ncurses[version='>=6.1,<7.0a0']\n",
            "six==1.14.0=py37_0 -> python[version='>=3.7,<3.8.0a0'] -> ncurses[version='>=6.2,<7.0a0']\n",
            "chardet==3.0.4=py37_1003 -> python[version='>=3.7,<3.8.0a0'] -> ncurses[version='>=6.2,<7.0a0']\n",
            "python==3.7.7=hcff3b4d_5 -> ncurses[version='>=6.2,<7.0a0']\n",
            "certifi==2020.4.5.1=py37_0 -> python[version='>=3.7,<3.8.0a0'] -> ncurses[version='>=6.2,<7.0a0']\n",
            "rdkit -> python[version='>=3.7,<3.8.0a0'] -> ncurses[version='>=6.2,<7.0a0']\n",
            "ruamel_yaml==0.15.87=py37h7b6447c_0 -> python[version='>=3.7,<3.8.0a0'] -> ncurses[version='>=6.2,<7.0a0']\n",
            "sqlite==3.31.1=h62c20be_1 -> ncurses[version='>=6.2,<7.0a0']\n",
            "pyparsing -> python -> ncurses[version='>=6.2,<7.0a0']\n",
            "matplotlib-base -> python[version='>=3.7,<3.8.0a0'] -> ncurses[version='>=6.2,<7.0a0']\n",
            "conda==4.8.3=py37_0 -> python[version='>=3.7,<3.8.0a0'] -> ncurses[version='>=6.2,<7.0a0']\n",
            "idna==2.9=py_1 -> python -> ncurses[version='>=6.2,<7.0a0']\n",
            "cycler -> python -> ncurses[version='>=6.2,<7.0a0']\n",
            "pandas -> python[version='>=3.7,<3.8.0a0'] -> ncurses[version='>=6.2,<7.0a0']\n",
            "pytz -> python[version='>=3'] -> ncurses[version='>=6.2,<7.0a0']\n",
            "pip==20.0.2=py37_3 -> python[version='>=3.7,<3.8.0a0'] -> ncurses[version='>=6.2,<7.0a0']\n",
            "requests==2.23.0=py37_0 -> python[version='>=3.7,<3.8.0a0'] -> ncurses[version='>=6.2,<7.0a0']\n",
            "ncurses==6.2=he6710b0_1\n",
            "cffi==1.14.0=py37he30daa8_1 -> python[version='>=3.7,<3.8.0a0'] -> ncurses[version='>=6.2,<7.0a0']\n",
            "conda-package-handling==1.6.1=py37h7b6447c_0 -> python[version='>=3.7,<3.8.0a0'] -> ncurses[version='>=6.2,<7.0a0']\n",
            "reportlab -> python[version='>=3.7,<3.8.0a0'] -> ncurses[version='>=6.2,<7.0a0']\n",
            "pyopenssl==19.1.0=py37_0 -> python[version='>=3.7,<3.8.0a0'] -> ncurses[version='>=6.2,<7.0a0']\n",
            "boost -> python[version='>=3.7,<3.8.0a0'] -> ncurses[version='>=6.2,<7.0a0']\n",
            "readline==8.0=h7b6447c_0 -> ncurses[version='>=6.1,<7.0a0']\n",
            "python==3.7.7=hcff3b4d_5 -> readline[version='>=8.0,<9.0a0'] -> ncurses[version='>=6.1,<7.0a0']\n",
            "cryptography==2.9.2=py37h1ba5d50_0 -> python[version='>=3.7,<3.8.0a0'] -> ncurses[version='>=6.2,<7.0a0']\n",
            "\n",
            "Package python_abi conflicts for:\n",
            "setuptools==46.4.0=py37_0 -> certifi[version='>=2016.9.26'] -> python_abi=3.7[build=*_cp37m]\n",
            "pandas -> python_abi=3.7[build=*_cp37m]\n",
            "matplotlib-base -> certifi[version='>=2020.06.20'] -> python_abi=3.7[build=*_cp37m]\n",
            "numpy -> python_abi=3.7[build=*_cp37m]\n",
            "python_abi\n",
            "boost -> python_abi=3.7[build=*_cp37m]\n",
            "reportlab -> python_abi=3.7[build=*_cp37m]\n",
            "kiwisolver -> python_abi=3.7[build=*_cp37m]\n",
            "tornado -> python_abi=3.7[build=*_cp37m]\n",
            "rdkit -> python_abi=3.7[build=*_cp37m]\n",
            "pycairo -> python_abi=3.7[build=*_cp37m]\n",
            "requests==2.23.0=py37_0 -> certifi[version='>=2017.4.17'] -> python_abi=3.7[build=*_cp37m]\n",
            "sqlalchemy -> python_abi=3.7[build=*_cp37m]\n",
            "urllib3==1.25.8=py37_0 -> certifi -> python_abi=3.7[build=*_cp37m]\n",
            "\n",
            "Package libffi conflicts for:\n",
            "pandas -> python[version='>=3.7,<3.8.0a0'] -> libffi[version='>=3.3,<3.4.0a0']\n",
            "tqdm==4.46.0=py_0 -> python -> libffi[version='>=3.3,<3.4.0a0']\n",
            "idna==2.9=py_1 -> python -> libffi[version='>=3.3,<3.4.0a0']\n",
            "requests==2.23.0=py37_0 -> python[version='>=3.7,<3.8.0a0'] -> libffi[version='>=3.3,<3.4.0a0']\n",
            "certifi==2020.4.5.1=py37_0 -> python[version='>=3.7,<3.8.0a0'] -> libffi[version='>=3.3,<3.4.0a0']\n",
            "matplotlib-base -> python[version='>=3.7,<3.8.0a0'] -> libffi[version='>=3.3,<3.4.0a0']\n",
            "glib -> libffi[version='>=3.3,<3.4.0a0']\n",
            "pycosat==0.6.3=py37h7b6447c_0 -> python[version='>=3.7,<3.8.0a0'] -> libffi[version='>=3.3,<3.4.0a0']\n",
            "conda==4.8.3=py37_0 -> python[version='>=3.7,<3.8.0a0'] -> libffi[version='>=3.3,<3.4.0a0']\n",
            "pyparsing -> python -> libffi[version='>=3.3,<3.4.0a0']\n",
            "cryptography==2.9.2=py37h1ba5d50_0 -> cffi -> libffi[version='>=3.3,<3.4.0a0']\n",
            "pysocks==1.7.1=py37_0 -> python[version='>=3.7,<3.8.0a0'] -> libffi[version='>=3.3,<3.4.0a0']\n",
            "reportlab -> python[version='>=3.7,<3.8.0a0'] -> libffi[version='>=3.3,<3.4.0a0']\n",
            "pycairo -> python[version='>=3.7,<3.8.0a0'] -> libffi[version='>=3.3,<3.4.0a0']\n",
            "pyopenssl==19.1.0=py37_0 -> python[version='>=3.7,<3.8.0a0'] -> libffi[version='>=3.3,<3.4.0a0']\n",
            "cairo -> glib[version='>=2.58.3,<3.0a0'] -> libffi[version='>=3.3,<3.4.0a0']\n",
            "setuptools==46.4.0=py37_0 -> python[version='>=3.7,<3.8.0a0'] -> libffi[version='>=3.3,<3.4.0a0']\n",
            "pip==20.0.2=py37_3 -> python[version='>=3.7,<3.8.0a0'] -> libffi[version='>=3.3,<3.4.0a0']\n",
            "sqlalchemy -> python[version='>=3.7,<3.8.0a0'] -> libffi[version='>=3.3,<3.4.0a0']\n",
            "numpy -> python[version='>=3.7,<3.8.0a0'] -> libffi[version='>=3.3,<3.4.0a0']\n",
            "pycparser==2.20=py_0 -> python -> libffi[version='>=3.3,<3.4.0a0']\n",
            "boost -> python[version='>=3.7,<3.8.0a0'] -> libffi[version='>=3.3,<3.4.0a0']\n",
            "libffi==3.3=he6710b0_1\n",
            "cffi==1.14.0=py37he30daa8_1 -> libffi[version='>=3.3,<3.4.0a0']\n",
            "kiwisolver -> python[version='>=3.7,<3.8.0a0'] -> libffi[version='>=3.3,<3.4.0a0']\n",
            "pillow -> python[version='>=3.7,<3.8.0a0'] -> libffi[version='>=3.3,<3.4.0a0']\n",
            "olefile -> python -> libffi[version='>=3.3,<3.4.0a0']\n",
            "python_abi -> python=3.7 -> libffi[version='>=3.3,<3.4.0a0']\n",
            "cycler -> python -> libffi[version='>=3.3,<3.4.0a0']\n",
            "chardet==3.0.4=py37_1003 -> python[version='>=3.7,<3.8.0a0'] -> libffi[version='>=3.3,<3.4.0a0']\n",
            "python==3.7.7=hcff3b4d_5 -> libffi[version='>=3.3,<3.4.0a0']\n",
            "python-dateutil -> python -> libffi[version='>=3.3,<3.4.0a0']\n",
            "pytz -> python[version='>=3'] -> libffi[version='>=3.3,<3.4.0a0']\n",
            "rdkit -> python[version='>=3.7,<3.8.0a0'] -> libffi[version='>=3.3,<3.4.0a0']\n",
            "urllib3==1.25.8=py37_0 -> python[version='>=3.7,<3.8.0a0'] -> libffi[version='>=3.3,<3.4.0a0']\n",
            "ruamel_yaml==0.15.87=py37h7b6447c_0 -> python[version='>=3.7,<3.8.0a0'] -> libffi[version='>=3.3,<3.4.0a0']\n",
            "tornado -> python[version='>=3.7,<3.8.0a0'] -> libffi[version='>=3.3,<3.4.0a0']\n",
            "conda-package-handling==1.6.1=py37h7b6447c_0 -> python[version='>=3.7,<3.8.0a0'] -> libffi[version='>=3.3,<3.4.0a0']\n",
            "wheel==0.34.2=py37_0 -> python[version='>=3.7,<3.8.0a0'] -> libffi[version='>=3.3,<3.4.0a0']\n",
            "six==1.14.0=py37_0 -> python[version='>=3.7,<3.8.0a0'] -> libffi[version='>=3.3,<3.4.0a0']\n",
            "\n",
            "Package kiwisolver conflicts for:\n",
            "matplotlib-base -> kiwisolver[version='>=1.0.1']\n",
            "kiwisolver\n",
            "rdkit -> matplotlib-base -> kiwisolver[version='>=1.0.1']\n",
            "\n",
            "Package ld_impl_linux-64 conflicts for:\n",
            "cffi==1.14.0=py37he30daa8_1 -> python[version='>=3.7,<3.8.0a0'] -> ld_impl_linux-64\n",
            "pycosat==0.6.3=py37h7b6447c_0 -> python[version='>=3.7,<3.8.0a0'] -> ld_impl_linux-64\n",
            "reportlab -> python[version='>=3.7,<3.8.0a0'] -> ld_impl_linux-64\n",
            "pyopenssl==19.1.0=py37_0 -> python[version='>=3.7,<3.8.0a0'] -> ld_impl_linux-64\n",
            "ld_impl_linux-64==2.33.1=h53a641e_7\n",
            "boost -> python[version='>=3.7,<3.8.0a0'] -> ld_impl_linux-64\n",
            "numpy -> python[version='>=3.7,<3.8.0a0'] -> ld_impl_linux-64\n",
            "cryptography==2.9.2=py37h1ba5d50_0 -> python[version='>=3.7,<3.8.0a0'] -> ld_impl_linux-64\n",
            "setuptools==46.4.0=py37_0 -> python[version='>=3.7,<3.8.0a0'] -> ld_impl_linux-64\n",
            "pillow -> python[version='>=3.7,<3.8.0a0'] -> ld_impl_linux-64\n",
            "chardet==3.0.4=py37_1003 -> python[version='>=3.7,<3.8.0a0'] -> ld_impl_linux-64\n",
            "pycparser==2.20=py_0 -> python -> ld_impl_linux-64\n",
            "rdkit -> python[version='>=3.7,<3.8.0a0'] -> ld_impl_linux-64\n",
            "pycairo -> python[version='>=3.7,<3.8.0a0'] -> ld_impl_linux-64\n",
            "python-dateutil -> python -> ld_impl_linux-64\n",
            "python_abi -> python=3.7 -> ld_impl_linux-64\n",
            "kiwisolver -> python[version='>=3.7,<3.8.0a0'] -> ld_impl_linux-64\n",
            "wheel==0.34.2=py37_0 -> python[version='>=3.7,<3.8.0a0'] -> ld_impl_linux-64\n",
            "olefile -> python -> ld_impl_linux-64\n",
            "urllib3==1.25.8=py37_0 -> python[version='>=3.7,<3.8.0a0'] -> ld_impl_linux-64\n",
            "tornado -> python[version='>=3.7,<3.8.0a0'] -> ld_impl_linux-64\n",
            "conda-package-handling==1.6.1=py37h7b6447c_0 -> python[version='>=3.7,<3.8.0a0'] -> ld_impl_linux-64\n",
            "six==1.14.0=py37_0 -> python[version='>=3.7,<3.8.0a0'] -> ld_impl_linux-64\n",
            "tqdm==4.46.0=py_0 -> python -> ld_impl_linux-64\n",
            "idna==2.9=py_1 -> python -> ld_impl_linux-64\n",
            "certifi==2020.4.5.1=py37_0 -> python[version='>=3.7,<3.8.0a0'] -> ld_impl_linux-64\n",
            "python==3.7.7=hcff3b4d_5 -> ld_impl_linux-64\n",
            "requests==2.23.0=py37_0 -> python[version='>=3.7,<3.8.0a0'] -> ld_impl_linux-64\n",
            "pytz -> python[version='>=3'] -> ld_impl_linux-64\n",
            "ruamel_yaml==0.15.87=py37h7b6447c_0 -> python[version='>=3.7,<3.8.0a0'] -> ld_impl_linux-64\n",
            "conda==4.8.3=py37_0 -> python[version='>=3.7,<3.8.0a0'] -> ld_impl_linux-64\n",
            "pyparsing -> python -> ld_impl_linux-64\n",
            "matplotlib-base -> python[version='>=3.7,<3.8.0a0'] -> ld_impl_linux-64\n",
            "pysocks==1.7.1=py37_0 -> python[version='>=3.7,<3.8.0a0'] -> ld_impl_linux-64\n",
            "cycler -> python -> ld_impl_linux-64\n",
            "sqlalchemy -> python[version='>=3.7,<3.8.0a0'] -> ld_impl_linux-64\n",
            "pandas -> python[version='>=3.7,<3.8.0a0'] -> ld_impl_linux-64\n",
            "pip==20.0.2=py37_3 -> python[version='>=3.7,<3.8.0a0'] -> ld_impl_linux-64\n",
            "\n",
            "Package xorg-xproto conflicts for:\n",
            "xorg-libx11 -> xorg-xproto\n",
            "xorg-libxext -> xorg-libx11=1.6 -> xorg-xproto\n",
            "xorg-xproto\n",
            "cairo -> xorg-libx11 -> xorg-xproto\n",
            "xorg-libxrender -> xorg-libx11=1.6 -> xorg-xproto\n",
            "\n",
            "Package bzip2 conflicts for:\n",
            "boost-cpp -> bzip2[version='>=1.0.8,<2.0a0']\n",
            "boost -> boost-cpp=1.74.0 -> bzip2[version='>=1.0.8,<2.0a0']\n",
            "bzip2\n",
            "\n",
            "Package pytz conflicts for:\n",
            "rdkit -> pandas -> pytz[version='>=2017.2']\n",
            "pandas -> pytz[version='>=2017.2']\n",
            "pytz\n",
            "\n",
            "Package tqdm conflicts for:\n",
            "conda-package-handling==1.6.1=py37h7b6447c_0 -> tqdm\n",
            "tqdm==4.46.0=py_0\n",
            "conda==4.8.3=py37_0 -> conda-package-handling[version='>=1.3.0'] -> tqdm\n",
            "\n",
            "Package glib conflicts for:\n",
            "cairo -> glib[version='>=2.58.3,<3.0a0']\n",
            "pycairo -> cairo[version='>=1.16.0,<1.17.0a0'] -> glib[version='>=2.58.3,<3.0a0']\n",
            "rdkit -> cairo[version='>=1.16.0,<1.17.0a0'] -> glib[version='>=2.58.3,<3.0a0']\n",
            "glib\n",
            "\n",
            "Package olefile conflicts for:\n",
            "rdkit -> pillow -> olefile\n",
            "pillow -> olefile\n",
            "matplotlib-base -> pillow[version='>=6.2.0'] -> olefile\n",
            "olefile\n",
            "reportlab -> pillow[version='>=2.4.0'] -> olefile\n",
            "\n",
            "Package libblas conflicts for:\n",
            "numpy -> libcblas[version='>=3.8.0,<4.0a0'] -> libblas==3.9.0=3_openblas\n",
            "liblapack -> libblas==3.9.0=3_openblas\n",
            "libcblas -> libblas==3.9.0=3_openblas\n",
            "numpy -> libblas[version='>=3.8.0,<4.0a0']\n",
            "libblas\n",
            "boost -> numpy[version='>=1.16.5,<2.0a0'] -> libblas[version='>=3.8.0,<4.0a0']\n",
            "pandas -> numpy[version='>=1.16.5,<2.0a0'] -> libblas[version='>=3.8.0,<4.0a0']\n",
            "rdkit -> numpy[version='>=1.16.5,<2.0a0'] -> libblas[version='>=3.8.0,<4.0a0']\n",
            "matplotlib-base -> numpy[version='>=1.15.4,<2.0a0'] -> libblas[version='>=3.8.0,<4.0a0']\n",
            "\n",
            "Package cffi conflicts for:\n",
            "cffi==1.14.0=py37he30daa8_1\n",
            "urllib3==1.25.8=py37_0 -> cryptography[version='>=1.3.4'] -> cffi\n",
            "pyopenssl==19.1.0=py37_0 -> cryptography[version='>=2.8'] -> cffi\n",
            "cryptography==2.9.2=py37h1ba5d50_0 -> cffi\n",
            "\n",
            "Package idna conflicts for:\n",
            "requests==2.23.0=py37_0 -> urllib3[version='>=1.21.1,<1.26,!=1.25.0,!=1.25.1'] -> idna[version='>=2.0.0']\n",
            "urllib3==1.25.8=py37_0 -> cryptography[version='>=1.3.4'] -> idna\n",
            "pyopenssl==19.1.0=py37_0 -> cryptography[version='>=2.8'] -> idna\n",
            "idna==2.9=py_1\n",
            "urllib3==1.25.8=py37_0 -> idna[version='>=2.0.0']\n",
            "requests==2.23.0=py37_0 -> idna[version='>=2.5,<3']\n",
            "cryptography==2.9.2=py37h1ba5d50_0 -> idna\n",
            "conda==4.8.3=py37_0 -> requests[version='>=2.18.4,<3'] -> idna[version='>=2.5,<3']\n",
            "\n",
            "Package jpeg conflicts for:\n",
            "lcms2 -> jpeg[version='>=9d,<10a']\n",
            "matplotlib-base -> pillow[version='>=6.2.0'] -> jpeg\n",
            "jpeg\n",
            "libtiff -> jpeg[version='>=9d,<10a']\n",
            "pillow -> lcms2[version='>=2.11,<3.0a0'] -> jpeg[version='>=9d,<10a']\n",
            "pillow -> jpeg\n",
            "reportlab -> pillow[version='>=2.4.0'] -> jpeg\n",
            "rdkit -> pillow -> jpeg\n",
            "\n",
            "Package tk conflicts for:\n",
            "cffi==1.14.0=py37he30daa8_1 -> python[version='>=3.7,<3.8.0a0'] -> tk[version='>=8.6.8,<8.7.0a0']\n",
            "reportlab -> pillow[version='>=2.4.0'] -> tk[version='>=8.6.8,<8.7.0a0']\n",
            "cryptography==2.9.2=py37h1ba5d50_0 -> python[version='>=3.7,<3.8.0a0'] -> tk[version='>=8.6.8,<8.7.0a0']\n",
            "olefile -> python -> tk[version='>=8.6.8,<8.7.0a0']\n",
            "numpy -> python[version='>=3.7,<3.8.0a0'] -> tk[version='>=8.6.8,<8.7.0a0']\n",
            "python_abi -> python=3.7 -> tk[version='>=8.6.8,<8.7.0a0']\n",
            "matplotlib-base -> tk\n",
            "cycler -> python -> tk[version='>=8.6.8,<8.7.0a0']\n",
            "pillow -> python[version='>=3.7,<3.8.0a0'] -> tk[version='>=8.6.8,<8.7.0a0']\n",
            "chardet==3.0.4=py37_1003 -> python[version='>=3.7,<3.8.0a0'] -> tk[version='>=8.6.8,<8.7.0a0']\n",
            "pillow -> tk\n",
            "tqdm==4.46.0=py_0 -> python -> tk[version='>=8.6.8,<8.7.0a0']\n",
            "pycparser==2.20=py_0 -> python -> tk[version='>=8.6.8,<8.7.0a0']\n",
            "idna==2.9=py_1 -> python -> tk[version='>=8.6.8,<8.7.0a0']\n",
            "requests==2.23.0=py37_0 -> python[version='>=3.7,<3.8.0a0'] -> tk[version='>=8.6.8,<8.7.0a0']\n",
            "matplotlib-base -> python[version='>=3.7,<3.8.0a0'] -> tk[version='>=8.6.8,<8.7.0a0']\n",
            "pytz -> python[version='>=3'] -> tk[version='>=8.6.8,<8.7.0a0']\n",
            "ruamel_yaml==0.15.87=py37h7b6447c_0 -> python[version='>=3.7,<3.8.0a0'] -> tk[version='>=8.6.8,<8.7.0a0']\n",
            "wheel==0.34.2=py37_0 -> python[version='>=3.7,<3.8.0a0'] -> tk[version='>=8.6.8,<8.7.0a0']\n",
            "conda-package-handling==1.6.1=py37h7b6447c_0 -> python[version='>=3.7,<3.8.0a0'] -> tk[version='>=8.6.8,<8.7.0a0']\n",
            "rdkit -> matplotlib-base -> tk[version='>=8.6.8,<8.7.0a0']\n",
            "python-dateutil -> python -> tk[version='>=8.6.8,<8.7.0a0']\n",
            "kiwisolver -> python[version='>=3.7,<3.8.0a0'] -> tk[version='>=8.6.8,<8.7.0a0']\n",
            "six==1.14.0=py37_0 -> python[version='>=3.7,<3.8.0a0'] -> tk[version='>=8.6.8,<8.7.0a0']\n",
            "urllib3==1.25.8=py37_0 -> python[version='>=3.7,<3.8.0a0'] -> tk[version='>=8.6.8,<8.7.0a0']\n",
            "tornado -> python[version='>=3.7,<3.8.0a0'] -> tk[version='>=8.6.8,<8.7.0a0']\n",
            "pandas -> python[version='>=3.7,<3.8.0a0'] -> tk[version='>=8.6.8,<8.7.0a0']\n",
            "certifi==2020.4.5.1=py37_0 -> python[version='>=3.7,<3.8.0a0'] -> tk[version='>=8.6.8,<8.7.0a0']\n",
            "python==3.7.7=hcff3b4d_5 -> tk[version='>=8.6.8,<8.7.0a0']\n",
            "pip==20.0.2=py37_3 -> python[version='>=3.7,<3.8.0a0'] -> tk[version='>=8.6.8,<8.7.0a0']\n",
            "pycosat==0.6.3=py37h7b6447c_0 -> python[version='>=3.7,<3.8.0a0'] -> tk[version='>=8.6.8,<8.7.0a0']\n",
            "pysocks==1.7.1=py37_0 -> python[version='>=3.7,<3.8.0a0'] -> tk[version='>=8.6.8,<8.7.0a0']\n",
            "boost -> python[version='>=3.7,<3.8.0a0'] -> tk[version='>=8.6.8,<8.7.0a0']\n",
            "tk==8.6.8=hbc83047_0\n",
            "pyparsing -> python -> tk[version='>=8.6.8,<8.7.0a0']\n",
            "conda==4.8.3=py37_0 -> python[version='>=3.7,<3.8.0a0'] -> tk[version='>=8.6.8,<8.7.0a0']\n",
            "setuptools==46.4.0=py37_0 -> python[version='>=3.7,<3.8.0a0'] -> tk[version='>=8.6.8,<8.7.0a0']\n",
            "pycairo -> python[version='>=3.7,<3.8.0a0'] -> tk[version='>=8.6.8,<8.7.0a0']\n",
            "pyopenssl==19.1.0=py37_0 -> python[version='>=3.7,<3.8.0a0'] -> tk[version='>=8.6.8,<8.7.0a0']\n",
            "sqlalchemy -> python[version='>=3.7,<3.8.0a0'] -> tk[version='>=8.6.8,<8.7.0a0']\n",
            "\n",
            "Package boost-cpp conflicts for:\n",
            "boost-cpp\n",
            "boost -> boost-cpp=1.74.0\n",
            "rdkit -> boost[version='>=1.74.0,<1.74.1.0a0'] -> boost-cpp=1.74.0\n",
            "\n",
            "Package certifi conflicts for:\n",
            "requests==2.23.0=py37_0 -> urllib3[version='>=1.21.1,<1.26,!=1.25.0,!=1.25.1'] -> certifi\n",
            "conda==4.8.3=py37_0 -> requests[version='>=2.18.4,<3'] -> certifi[version='>=2016.9.26|>=2017.4.17']\n",
            "certifi==2020.4.5.1=py37_0\n",
            "wheel==0.34.2=py37_0 -> setuptools -> certifi[version='>=2016.9.26']\n",
            "urllib3==1.25.8=py37_0 -> certifi\n",
            "setuptools==46.4.0=py37_0 -> certifi[version='>=2016.9.26']\n",
            "requests==2.23.0=py37_0 -> certifi[version='>=2017.4.17']\n",
            "matplotlib-base -> setuptools -> certifi[version='>=2016.9.26']\n",
            "rdkit -> matplotlib-base -> certifi[version='>=2020.06.20']\n",
            "pip==20.0.2=py37_3 -> setuptools -> certifi[version='>=2016.9.26']\n",
            "matplotlib-base -> certifi[version='>=2020.06.20']\n",
            "\n",
            "Package six conflicts for:\n",
            "pyopenssl==19.1.0=py37_0 -> six[version='>=1.5.2']\n",
            "python-dateutil -> six\n",
            "pandas -> python-dateutil[version='>=2.7.3'] -> six\n",
            "matplotlib-base -> cycler[version='>=0.10'] -> six\n",
            "cryptography==2.9.2=py37h1ba5d50_0 -> six\n",
            "conda-package-handling==1.6.1=py37h7b6447c_0 -> six\n",
            "urllib3==1.25.8=py37_0 -> cryptography[version='>=1.3.4'] -> six[version='>=1.5.2']\n",
            "cycler -> six\n",
            "six==1.14.0=py37_0\n",
            "pyopenssl==19.1.0=py37_0 -> cryptography[version='>=2.8'] -> six\n",
            "conda==4.8.3=py37_0 -> conda-package-handling[version='>=1.3.0'] -> six[version='>=1.5.2']\n",
            "\n",
            "Package sqlalchemy conflicts for:\n",
            "sqlalchemy\n",
            "rdkit -> sqlalchemy\n",
            "\n",
            "Package yaml conflicts for:\n",
            "ruamel_yaml==0.15.87=py37h7b6447c_0 -> yaml[version='>=0.1.7,<0.2.0a0']\n",
            "conda==4.8.3=py37_0 -> ruamel_yaml[version='>=0.11.14,<0.16'] -> yaml[version='>=0.1.7,<0.2.0a0']\n",
            "yaml==0.1.7=had09818_2\n",
            "\n",
            "Package libiconv conflicts for:\n",
            "libxml2 -> libiconv[version='>=1.16,<1.17.0a0']\n",
            "fontconfig -> libxml2[version='>=2.9.10,<2.10.0a0'] -> libiconv[version='>=1.16,<1.17.0a0']\n",
            "libiconv\n",
            "\n",
            "Package libxcb conflicts for:\n",
            "cairo -> xorg-libx11 -> libxcb=1\n",
            "libxcb\n",
            "xorg-libxrender -> xorg-libx11=1.6 -> libxcb=1\n",
            "cairo -> libxcb\n",
            "xorg-libx11 -> libxcb=1\n",
            "pycairo -> cairo[version='>=1.16.0,<1.17.0a0'] -> libxcb\n",
            "xorg-libxext -> xorg-libx11=1.6 -> libxcb=1\n",
            "rdkit -> cairo[version='>=1.16.0,<1.17.0a0'] -> libxcb\n",
            "\n",
            "Package reportlab conflicts for:\n",
            "reportlab\n",
            "rdkit -> reportlab\n",
            "\n",
            "Package xorg-xextproto conflicts for:\n",
            "xorg-libxext -> xorg-xextproto\n",
            "cairo -> xorg-libxext -> xorg-xextproto\n",
            "xorg-xextproto\n",
            "\n",
            "Package zstd conflicts for:\n",
            "pillow -> libtiff[version='>=4.1.0,<5.0a0'] -> zstd[version='>=1.4.5,<1.5.0a0']\n",
            "zstd\n",
            "boost -> boost-cpp=1.74.0 -> zstd[version='>=1.4.5,<1.5.0a0']\n",
            "libtiff -> zstd[version='>=1.4.5,<1.5.0a0']\n",
            "lcms2 -> libtiff[version='>=4.1.0,<5.0a0'] -> zstd[version='>=1.4.5,<1.5.0a0']\n",
            "boost-cpp -> zstd[version='>=1.4.5,<1.5.0a0']\n",
            "\n",
            "Package libtiff conflicts for:\n",
            "reportlab -> pillow[version='>=2.4.0'] -> libtiff[version='>=4.1.0,<5.0a0']\n",
            "pillow -> libtiff[version='>=4.1.0,<5.0a0']\n",
            "rdkit -> pillow -> libtiff[version='>=4.1.0,<5.0a0']\n",
            "lcms2 -> libtiff[version='>=4.1.0,<5.0a0']\n",
            "matplotlib-base -> pillow[version='>=6.2.0'] -> libtiff[version='>=4.1.0,<5.0a0']\n",
            "libtiff\n",
            "\n",
            "Package numpy conflicts for:\n",
            "rdkit -> matplotlib-base -> numpy[version='>=1.15.4,<2.0a0']\n",
            "rdkit -> numpy[version='>=1.16.5,<2.0a0']\n",
            "matplotlib-base -> numpy[version='>=1.15.4,<2.0a0']\n",
            "pandas -> numpy[version='>=1.16.5,<2.0a0']\n",
            "numpy\n",
            "boost -> numpy[version='>=1.16.5,<2.0a0']\n",
            "\n",
            "Package libwebp-base conflicts for:\n",
            "lcms2 -> libtiff[version='>=4.1.0,<5.0a0'] -> libwebp-base\n",
            "libwebp-base\n",
            "pillow -> libtiff[version='>=4.1.0,<5.0a0'] -> libwebp-base\n",
            "libtiff -> libwebp-base\n",
            "\n",
            "Package pycairo conflicts for:\n",
            "pycairo\n",
            "rdkit -> pycairo\n",
            "\n",
            "Package lz4-c conflicts for:\n",
            "boost-cpp -> zstd[version='>=1.4.5,<1.5.0a0'] -> lz4-c[version='>=1.9.2,<1.9.3.0a0']\n",
            "libtiff -> zstd[version='>=1.4.5,<1.5.0a0'] -> lz4-c[version='>=1.9.2,<1.9.3.0a0']\n",
            "zstd -> lz4-c[version='>=1.9.2,<1.9.3.0a0']\n",
            "lz4-c\n",
            "\n",
            "Package libgfortran-ng conflicts for:\n",
            "libopenblas -> libgfortran-ng\n",
            "libblas -> libopenblas[version='>=0.3.12,<0.3.13.0a0'] -> libgfortran-ng\n",
            "libgfortran-ng\n",
            "\n",
            "Package ruamel_yaml conflicts for:\n",
            "ruamel_yaml==0.15.87=py37h7b6447c_0\n",
            "conda==4.8.3=py37_0 -> ruamel_yaml[version='>=0.11.14,<0.16']\n",
            "\n",
            "Package xorg-libxdmcp conflicts for:\n",
            "cairo -> libxcb -> xorg-libxdmcp\n",
            "libxcb -> xorg-libxdmcp\n",
            "xorg-libxdmcp\n",
            "xorg-libx11 -> libxcb=1 -> xorg-libxdmcp\n",
            "\n",
            "Package pandas conflicts for:\n",
            "pandas\n",
            "rdkit -> pandas\n",
            "\n",
            "Package python-dateutil conflicts for:\n",
            "matplotlib-base -> python-dateutil[version='>=2.1']\n",
            "python-dateutil\n",
            "pandas -> python-dateutil[version='>=2.7.3']\n",
            "rdkit -> matplotlib-base -> python-dateutil[version='>=2.1|>=2.7.3']\n",
            "\n",
            "Package matplotlib-base conflicts for:\n",
            "matplotlib-base\n",
            "rdkit -> matplotlib-base\n",
            "\n",
            "Package xorg-libx11 conflicts for:\n",
            "cairo -> xorg-libxext -> xorg-libx11=1.6\n",
            "xorg-libxrender -> xorg-libx11=1.6\n",
            "rdkit -> cairo[version='>=1.16.0,<1.17.0a0'] -> xorg-libx11\n",
            "cairo -> xorg-libx11\n",
            "xorg-libx11\n",
            "xorg-libxext -> xorg-libx11=1.6\n",
            "pycairo -> cairo[version='>=1.16.0,<1.17.0a0'] -> xorg-libx11\n",
            "\n",
            "Package cryptography conflicts for:\n",
            "urllib3==1.25.8=py37_0 -> pyopenssl[version='>=0.14'] -> cryptography[version='>=2.8']\n",
            "pyopenssl==19.1.0=py37_0 -> cryptography[version='>=2.8']\n",
            "conda==4.8.3=py37_0 -> pyopenssl[version='>=16.2.0'] -> cryptography[version='>=2.8']\n",
            "requests==2.23.0=py37_0 -> urllib3[version='>=1.21.1,<1.26,!=1.25.0,!=1.25.1'] -> cryptography[version='>=1.3.4']\n",
            "cryptography==2.9.2=py37h1ba5d50_0\n",
            "urllib3==1.25.8=py37_0 -> cryptography[version='>=1.3.4']\n",
            "\n",
            "Package pysocks conflicts for:\n",
            "requests==2.23.0=py37_0 -> urllib3[version='>=1.21.1,<1.26,!=1.25.0,!=1.25.1'] -> pysocks[version='>=1.5.6,<2.0,!=1.5.7']\n",
            "urllib3==1.25.8=py37_0 -> pysocks[version='>=1.5.6,<2.0,!=1.5.7']\n",
            "pysocks==1.7.1=py37_0\n",
            "\n",
            "Package setuptools conflicts for:\n",
            "rdkit -> matplotlib-base -> setuptools\n",
            "wheel==0.34.2=py37_0 -> setuptools\n",
            "matplotlib-base -> setuptools\n",
            "pip==20.0.2=py37_3 -> setuptools\n",
            "conda==4.8.3=py37_0 -> setuptools[version='>=31.0.1']\n",
            "setuptools==46.4.0=py37_0\n",
            "\n",
            "Package urllib3 conflicts for:\n",
            "urllib3==1.25.8=py37_0\n",
            "conda==4.8.3=py37_0 -> requests[version='>=2.18.4,<3'] -> urllib3[version='>=1.21.1,<1.26,!=1.25.0,!=1.25.1']\n",
            "requests==2.23.0=py37_0 -> urllib3[version='>=1.21.1,<1.26,!=1.25.0,!=1.25.1']\n",
            "\n",
            "Package pyparsing conflicts for:\n",
            "pyparsing\n",
            "rdkit -> matplotlib-base -> pyparsing[version='>=2.0.3,!=2.0.4,!=2.1.2,!=2.1.6']\n",
            "matplotlib-base -> pyparsing[version='>=2.0.3,!=2.0.4,!=2.1.2,!=2.1.6']\n",
            "\n",
            "Package conda-package-handling conflicts for:\n",
            "conda==4.8.3=py37_0 -> conda-package-handling[version='>=1.3.0']\n",
            "conda-package-handling==1.6.1=py37h7b6447c_0\n",
            "\n",
            "Package pixman conflicts for:\n",
            "pixman\n",
            "pycairo -> cairo[version='>=1.16.0,<1.17.0a0'] -> pixman[version='>=0.38.0,<0.39.0a0']\n",
            "rdkit -> cairo[version='>=1.16.0,<1.17.0a0'] -> pixman[version='>=0.38.0,<0.39.0a0']\n",
            "cairo -> pixman[version='>=0.38.0,<0.39.0a0']\n",
            "\n",
            "Package xorg-libxau conflicts for:\n",
            "xorg-libx11 -> libxcb=1 -> xorg-libxau\n",
            "xorg-libxau\n",
            "cairo -> libxcb -> xorg-libxau\n",
            "libxcb -> xorg-libxau\n",
            "\n",
            "Package boost conflicts for:\n",
            "boost\n",
            "rdkit -> boost[version='>=1.74.0,<1.74.1.0a0']\n",
            "\n",
            "Package pthread-stubs conflicts for:\n",
            "xorg-libx11 -> libxcb=1 -> pthread-stubs\n",
            "cairo -> libxcb -> pthread-stubs\n",
            "pthread-stubs\n",
            "libxcb -> pthread-stubs\n",
            "\n",
            "Package libcblas conflicts for:\n",
            "libcblas\n",
            "numpy -> libcblas[version='>=3.8.0,<4.0a0']\n",
            "matplotlib-base -> numpy[version='>=1.15.4,<2.0a0'] -> libcblas[version='>=3.8.0,<4.0a0']\n",
            "boost -> numpy[version='>=1.16.5,<2.0a0'] -> libcblas[version='>=3.8.0,<4.0a0']\n",
            "rdkit -> numpy[version='>=1.16.5,<2.0a0'] -> libcblas[version='>=3.8.0,<4.0a0']\n",
            "pandas -> numpy[version='>=1.16.5,<2.0a0'] -> libcblas[version='>=3.8.0,<4.0a0']\n",
            "\n",
            "Package fontconfig conflicts for:\n",
            "rdkit -> cairo[version='>=1.16.0,<1.17.0a0'] -> fontconfig[version='>=2.13.1,<3.0a0']\n",
            "cairo -> fontconfig[version='>=2.13.1,<3.0a0']\n",
            "pycairo -> cairo[version='>=1.16.0,<1.17.0a0'] -> fontconfig[version='>=2.13.1,<3.0a0']\n",
            "fontconfig\n",
            "\n",
            "Package pcre conflicts for:\n",
            "glib -> pcre[version='>=8.44,<9.0a0']\n",
            "cairo -> glib[version='>=2.58.3,<3.0a0'] -> pcre[version='>=8.44,<9.0a0']\n",
            "pcre\n",
            "\n",
            "Package xorg-libxext conflicts for:\n",
            "rdkit -> cairo[version='>=1.16.0,<1.17.0a0'] -> xorg-libxext\n",
            "cairo -> xorg-libxext\n",
            "xorg-libxext\n",
            "pycairo -> cairo[version='>=1.16.0,<1.17.0a0'] -> xorg-libxext\n",
            "\n",
            "Package chardet conflicts for:\n",
            "requests==2.23.0=py37_0 -> chardet[version='>=3.0.2,<4']\n",
            "chardet==3.0.4=py37_1003\n",
            "conda==4.8.3=py37_0 -> requests[version='>=2.18.4,<3'] -> chardet[version='>=3.0.2,<4']\n",
            "\n",
            "Package xorg-libsm conflicts for:\n",
            "rdkit -> cairo[version='>=1.16.0,<1.17.0a0'] -> xorg-libsm\n",
            "cairo -> xorg-libsm\n",
            "pycairo -> cairo[version='>=1.16.0,<1.17.0a0'] -> xorg-libsm\n",
            "xorg-libsm\n",
            "\n",
            "Package libgfortran4 conflicts for:\n",
            "libopenblas -> libgfortran-ng -> libgfortran4=7.5.0\n",
            "libopenblas -> libgfortran4[version='>=7.5.0']\n",
            "libgfortran-ng -> libgfortran4=7.5.0\n",
            "libgfortran4\n",
            "libblas -> libopenblas[version='>=0.3.12,<0.3.13.0a0'] -> libgfortran4[version='>=7.5.0']\n",
            "\n",
            "Package ca-certificates conflicts for:\n",
            "ca-certificates==2020.1.1=0\n",
            "python==3.7.7=hcff3b4d_5 -> openssl[version='>=1.1.1g,<1.1.2a'] -> ca-certificates\n",
            "cryptography==2.9.2=py37h1ba5d50_0 -> openssl[version='>=1.1.1g,<1.1.2a'] -> ca-certificates\n",
            "openssl==1.1.1g=h7b6447c_0 -> ca-certificates\n",
            "\n",
            "Package libedit conflicts for:\n",
            "python==3.7.7=hcff3b4d_5 -> sqlite[version='>=3.31.1,<4.0a0'] -> libedit[version='>=3.1.20181209,<3.2.0a0']\n",
            "libedit==3.1.20181209=hc058e9b_0\n",
            "sqlite==3.31.1=h62c20be_1 -> libedit[version='>=3.1.20181209,<3.2.0a0']\n",
            "\n",
            "Package lcms2 conflicts for:\n",
            "lcms2\n",
            "reportlab -> pillow[version='>=2.4.0'] -> lcms2[version='>=2.11,<3.0a0']\n",
            "pillow -> lcms2[version='>=2.11,<3.0a0']\n",
            "rdkit -> pillow -> lcms2[version='>=2.11,<3.0a0']\n",
            "matplotlib-base -> pillow[version='>=6.2.0'] -> lcms2[version='>=2.11,<3.0a0']\n",
            "\n",
            "Package wheel conflicts for:\n",
            "pip==20.0.2=py37_3 -> wheel\n",
            "wheel==0.34.2=py37_0\n",
            "\n",
            "Package requests conflicts for:\n",
            "conda==4.8.3=py37_0 -> requests[version='>=2.18.4,<3']\n",
            "requests==2.23.0=py37_0\n",
            "\n",
            "Package xorg-libxrender conflicts for:\n",
            "cairo -> xorg-libxrender\n",
            "rdkit -> cairo[version='>=1.16.0,<1.17.0a0'] -> xorg-libxrender\n",
            "xorg-libxrender\n",
            "pycairo -> cairo[version='>=1.16.0,<1.17.0a0'] -> xorg-libxrender\n",
            "\n",
            "Package tornado conflicts for:\n",
            "rdkit -> matplotlib-base -> tornado\n",
            "tornado\n",
            "matplotlib-base -> tornado\n",
            "\n",
            "Package cycler conflicts for:\n",
            "rdkit -> matplotlib-base -> cycler[version='>=0.10']\n",
            "matplotlib-base -> cycler[version='>=0.10']\n",
            "cycler\n",
            "\n",
            "Package libxml2 conflicts for:\n",
            "libxml2\n",
            "cairo -> fontconfig[version='>=2.13.1,<3.0a0'] -> libxml2[version='>=2.9.10,<2.10.0a0']\n",
            "fontconfig -> libxml2[version='>=2.9.10,<2.10.0a0']\n",
            "\n",
            "Package cairo conflicts for:\n",
            "cairo\n",
            "pycairo -> cairo[version='>=1.16.0,<1.17.0a0']\n",
            "rdkit -> cairo[version='>=1.16.0,<1.17.0a0']\n",
            "\n",
            "Package pycosat conflicts for:\n",
            "pycosat==0.6.3=py37h7b6447c_0\n",
            "conda==4.8.3=py37_0 -> pycosat[version='>=0.6.3']\n",
            "\n",
            "Package libuuid conflicts for:\n",
            "cairo -> fontconfig[version='>=2.13.1,<3.0a0'] -> libuuid[version='>=2.32.1,<3.0a0']\n",
            "fontconfig -> libuuid[version='>=2.32.1,<3.0a0']\n",
            "libuuid\n",
            "xorg-libsm -> libuuid[version='>=2.32.1,<3.0a0']\n",
            "\n",
            "\n",
            "real\t0m44.540s\n",
            "user\t0m54.911s\n",
            "sys\t0m6.902s\n",
            "Collecting package metadata (current_repodata.json): ...working... done\n",
            "Solving environment: ...working... done\n",
            "\n",
            "# All requested packages already installed.\n",
            "\n",
            "\n",
            "real\t0m17.345s\n",
            "user\t0m15.896s\n",
            "sys\t0m1.174s\n"
          ],
          "name": "stdout"
        }
      ]
    },
    {
      "cell_type": "code",
      "metadata": {
        "colab": {
          "base_uri": "https://localhost:8080/"
        },
        "id": "rOnglUFI_ao8",
        "outputId": "943e85c4-3132-4982-eb8e-81362e82272b"
      },
      "source": [
        "pip install -y boost-cpp boost py-boost"
      ],
      "execution_count": null,
      "outputs": [
        {
          "output_type": "stream",
          "text": [
            "\n",
            "Usage:   \n",
            "  pip install [options] <requirement specifier> [package-index-options] ...\n",
            "  pip install [options] -r <requirements file> [package-index-options] ...\n",
            "  pip install [options] [-e] <vcs project url> ...\n",
            "  pip install [options] [-e] <local project path> ...\n",
            "  pip install [options] <archive url/path> ...\n",
            "\n",
            "no such option: -y\n"
          ],
          "name": "stdout"
        }
      ]
    },
    {
      "cell_type": "code",
      "metadata": {
        "id": "ZTv2ka9tjYuI"
      },
      "source": [
        "import numpy as np\n",
        "import pandas as pd\n",
        "import keras as k\n",
        "from keras.models import Sequential\n",
        "from keras.layers import Activation, BatchNormalization\n",
        "from keras.layers.core import Dense\n",
        "from keras.optimizers import Adam, SGD\n",
        "from keras.metrics import categorical_crossentropy\n",
        "from rdkit import Chem, DataStructs\n",
        "from rdkit.Chem import rdMolDescriptors, Draw\n",
        "from rdkit.Chem.Draw import IPythonConsole\n",
        "from sklearn.preprocessing import MinMaxScaler\n",
        "import numpy as np\n",
        "import tensorflow as tf\n",
        "import math"
      ],
      "execution_count": null,
      "outputs": []
    },
    {
      "cell_type": "code",
      "metadata": {
        "colab": {
          "base_uri": "https://localhost:8080/"
        },
        "id": "S-umLzg1jdYQ",
        "outputId": "0072e058-d30c-46f3-d37c-8bb428b9641e"
      },
      "source": [
        "from google.colab import drive\n",
        "drive.mount('/content/drive')"
      ],
      "execution_count": null,
      "outputs": [
        {
          "output_type": "stream",
          "text": [
            "Drive already mounted at /content/drive; to attempt to forcibly remount, call drive.mount(\"/content/drive\", force_remount=True).\n"
          ],
          "name": "stdout"
        }
      ]
    },
    {
      "cell_type": "code",
      "metadata": {
        "id": "iFK0sXYIjwKL"
      },
      "source": [
        "df = pd.read_excel('/content/drive/My Drive/Drug Discovery Hackathon/data1.xlsx')"
      ],
      "execution_count": null,
      "outputs": []
    },
    {
      "cell_type": "code",
      "metadata": {
        "id": "7dlJjBhHkeZM",
        "colab": {
          "base_uri": "https://localhost:8080/"
        },
        "outputId": "d9ffd997-950a-4118-eebc-3de9b9869c43"
      },
      "source": [
        "data = df.to_numpy()\n",
        "print(data)"
      ],
      "execution_count": null,
      "outputs": [
        {
          "output_type": "stream",
          "text": [
            "[[1 '[11CH3]Oc1ccc2cccc(N3CCN(CCCCN4N=CC(=O)N(C)C4=O)CC3)c2c1' 'Blocker']\n",
            " [2\n",
            "  '[2H]C([2H])([2H])Oc1cc(ncc1C#N)C(O)CN2CCN(C[C@H](O)c3ccc4C(=O)OCc4c3C)CC2'\n",
            "  'Blocker']\n",
            " [3\n",
            "  '[2H]C([2H])(O)CN1CCN(CC1)c2cnc3cc(cc(NCc4cccc(c4)[N+](=O)[O-])c3c2)C(F)(F)F'\n",
            "  'Blocker']\n",
            " ...\n",
            " [9202 'C(=Nc1cc2c(N(CC[C@H]3N(CCC3)C)CCC2)cc1)(c4sccc4)N' 'BLINDED']\n",
            " [9203 'C(=O)(c1c(NC(=O)c2c3c(c(cc2)CS(=O)C)cccc3)cccn1)NCC4CCOCC4'\n",
            "  'BLINDED']\n",
            " [9204\n",
            "  'O=C1[C@H]2N(c3ccc(OCCCCCNCC(=O)Nc4c(Cl)cc(cc4Cl)CN=C(N1)N)cc3)CCC2'\n",
            "  'BLINDED']]\n"
          ],
          "name": "stdout"
        }
      ]
    },
    {
      "cell_type": "code",
      "metadata": {
        "id": "ryt6ruN6ml0W",
        "colab": {
          "base_uri": "https://localhost:8080/"
        },
        "outputId": "53d60a43-90fb-4ec6-9c26-d8bb06ddc880"
      },
      "source": [
        "mols = [None]*data.shape[0]\n",
        "for i in range(0,data.shape[0]):\n",
        "  mols[i] = Chem.rdmolfiles.MolFromSmiles(data[i,1])"
      ],
      "execution_count": null,
      "outputs": [
        {
          "output_type": "stream",
          "text": [
            "RDKit ERROR: [13:43:01] SMILES Parse Error: syntax error while parsing: [C@]123c4c5c(O)ccc4CC(N(CC3)CC=C)[C@]2(O)CCC(\\[C@H]1O5)=N/N=C(/[C@H]6O7)CC[C@@]8(O)C(N(CC9)CC=C)Cc\r1ccc(O)c7c1[C@@]689\n",
            "RDKit ERROR: [13:43:01] SMILES Parse Error: Failed parsing SMILES '[C@]123c4c5c(O)ccc4CC(N(CC3)CC=C)[C@]2(O)CCC(\\[C@H]1O5)=N/N=C(/[C@H]6O7)CC[C@@]8(O)C(N(CC9)CC=C)Cc\r1ccc(O)c7c1[C@@]689' for input: '[C@]123c4c5c(O)ccc4CC(N(CC3)CC=C)[C@]2(O)CCC(\\[C@H]1O5)=N/N=C(/[C@H]6O7)CC[C@@]8(O)C(N(CC9)CC=C)Cc\r1ccc(O)c7c1[C@@]689'\n",
            "RDKit ERROR: [13:43:01] SMILES Parse Error: syntax error while parsing: C(=O)(c1nc2c(cc1)cccc2)N[C@H](C(=O)N[C@H]([C@H](O)C[NH+]3[C@H](C(=O)NC(C)(C)C)C[C@H]4[C@@H](C3)CCCC4\r)Cc5ccccc5)CC(=O)N\n",
            "RDKit ERROR: [13:43:01] SMILES Parse Error: Failed parsing SMILES 'C(=O)(c1nc2c(cc1)cccc2)N[C@H](C(=O)N[C@H]([C@H](O)C[NH+]3[C@H](C(=O)NC(C)(C)C)C[C@H]4[C@@H](C3)CCCC4\r)Cc5ccccc5)CC(=O)N' for input: 'C(=O)(c1nc2c(cc1)cccc2)N[C@H](C(=O)N[C@H]([C@H](O)C[NH+]3[C@H](C(=O)NC(C)(C)C)C[C@H]4[C@@H](C3)CCCC4\r)Cc5ccccc5)CC(=O)N'\n",
            "RDKit ERROR: [13:43:01] SMILES Parse Error: syntax error while parsing: C(=O)(OC1C(O)(CC(OC2C(OC(OC3C(OC)C(OC(=O)C)CC(=O)OC(CC=CC=CC(O)C(CC3CC=O)C)C)C(O)C2[NH+](C)C)C)OC1C)\rC)CC(C)C\n",
            "RDKit ERROR: [13:43:01] SMILES Parse Error: Failed parsing SMILES 'C(=O)(OC1C(O)(CC(OC2C(OC(OC3C(OC)C(OC(=O)C)CC(=O)OC(CC=CC=CC(O)C(CC3CC=O)C)C)C(O)C2[NH+](C)C)C)OC1C)\rC)CC(C)C' for input: 'C(=O)(OC1C(O)(CC(OC2C(OC(OC3C(OC)C(OC(=O)C)CC(=O)OC(CC=CC=CC(O)C(CC3CC=O)C)C)C(O)C2[NH+](C)C)C)OC1C)\rC)CC(C)C'\n",
            "RDKit ERROR: [13:43:01] SMILES Parse Error: syntax error while parsing: C(N(Cc1nc(sc1)C(C)C)C)(=O)N[C@H](C(=O)N[C@@H](Cc2ccccc2)C[C@@H]([C@@H](NC(=O)OCc3scnc3)Cc4ccccc4)O)C(\rC)C\n",
            "RDKit ERROR: [13:43:01] SMILES Parse Error: Failed parsing SMILES 'C(N(Cc1nc(sc1)C(C)C)C)(=O)N[C@H](C(=O)N[C@@H](Cc2ccccc2)C[C@@H]([C@@H](NC(=O)OCc3scnc3)Cc4ccccc4)O)C(\rC)C' for input: 'C(N(Cc1nc(sc1)C(C)C)C)(=O)N[C@H](C(=O)N[C@@H](Cc2ccccc2)C[C@@H]([C@@H](NC(=O)OCc3scnc3)Cc4ccccc4)O)C(\rC)C'\n",
            "RDKit ERROR: [13:43:01] SMILES Parse Error: syntax error while parsing: C[C@@H]1CC[C@@]2(OC1)O[C@H]3[C@@H](O)[C@H]4[C@@H]5CC[C@H]6C[C@@H](O[C@@H]7O[C@H](CO)[C@\rH](O[C@@H]8O[C@H](CO)[C@@H](O)[C@H](O[C@@H]9OC[C@@H](O)[C@H](O)[C@H]9O)[C@H]8O[C@@H]%10O[\rC@H](CO)[C@@H](O)[C@H](O[C@@H]%11O[C@H](CO)[C@@H](O)[C@H](O)[C@H]%11O)[C@H]%10O)[C@H](O)[C\r@H]7O)[C@H](O)C[C@]6(C)[C@H]5CC[C@]4(C)[C@H]3[C@@H]2C\n",
            "RDKit ERROR: [13:43:01] SMILES Parse Error: Failed parsing SMILES 'C[C@@H]1CC[C@@]2(OC1)O[C@H]3[C@@H](O)[C@H]4[C@@H]5CC[C@H]6C[C@@H](O[C@@H]7O[C@H](CO)[C@\rH](O[C@@H]8O[C@H](CO)[C@@H](O)[C@H](O[C@@H]9OC[C@@H](O)[C@H](O)[C@H]9O)[C@H]8O[C@@H]%10O[\rC@H](CO)[C@@H](O)[C@H](O[C@@H]%11O[C@H](CO)[C@@H](O)[C@H](O)[C@H]%11O)[C@H]%10O)[C@H](O)[C\r@H]7O)[C@H](O)C[C@]6(C)[C@H]5CC[C@]4(C)[C@H]3[C@@H]2C' for input: 'C[C@@H]1CC[C@@]2(OC1)O[C@H]3[C@@H](O)[C@H]4[C@@H]5CC[C@H]6C[C@@H](O[C@@H]7O[C@H](CO)[C@\rH](O[C@@H]8O[C@H](CO)[C@@H](O)[C@H](O[C@@H]9OC[C@@H](O)[C@H](O)[C@H]9O)[C@H]8O[C@@H]%10O[\rC@H](CO)[C@@H](O)[C@H](O[C@@H]%11O[C@H](CO)[C@@H](O)[C@H](O)[C@H]%11O)[C@H]%10O)[C@H](O)[C\r@H]7O)[C@H](O)C[C@]6(C)[C@H]5CC[C@]4(C)[C@H]3[C@@H]2C'\n",
            "RDKit ERROR: [13:43:01] SMILES Parse Error: syntax error while parsing: C[C@@H]1CN(Cc2ccc(c(CN3CCOCC3)c2)c4cccc(Oc5ncc(F)cc5C(=O)N[C@@H]6CC[C@@H](CC6)NC(=O)c7cc(C)ccc7O)c4\r)C[C@H](C)N1\n",
            "RDKit ERROR: [13:43:01] SMILES Parse Error: Failed parsing SMILES 'C[C@@H]1CN(Cc2ccc(c(CN3CCOCC3)c2)c4cccc(Oc5ncc(F)cc5C(=O)N[C@@H]6CC[C@@H](CC6)NC(=O)c7cc(C)ccc7O)c4\r)C[C@H](C)N1' for input: 'C[C@@H]1CN(Cc2ccc(c(CN3CCOCC3)c2)c4cccc(Oc5ncc(F)cc5C(=O)N[C@@H]6CC[C@@H](CC6)NC(=O)c7cc(C)ccc7O)c4\r)C[C@H](C)N1'\n",
            "RDKit ERROR: [13:43:01] SMILES Parse Error: syntax error while parsing: C[C@@H]1CN(Cc2ccc(c(CN3CCOCC3)c2)c4cccc(Oc5ncc(F)cc5C(=O)N[C@@H]6CC[C@@H](CC6)NC(=O)c7nc(C)cs7)c4)C[\rC@H](C)N1\n",
            "RDKit ERROR: [13:43:01] SMILES Parse Error: Failed parsing SMILES 'C[C@@H]1CN(Cc2ccc(c(CN3CCOCC3)c2)c4cccc(Oc5ncc(F)cc5C(=O)N[C@@H]6CC[C@@H](CC6)NC(=O)c7nc(C)cs7)c4)C[\rC@H](C)N1' for input: 'C[C@@H]1CN(Cc2ccc(c(CN3CCOCC3)c2)c4cccc(Oc5ncc(F)cc5C(=O)N[C@@H]6CC[C@@H](CC6)NC(=O)c7nc(C)cs7)c4)C[\rC@H](C)N1'\n",
            "RDKit ERROR: [13:43:01] SMILES Parse Error: syntax error while parsing: C1=CCN(CC2)[C@H]3[C@]1(CC)[C@@H](OC(=O)C)[C@](O)(C(=O)OC)C4N(C)c(c5[C@]234)cc(OC)c(c5)[C@](C(=O)OC)(c(\rc6c78)[nH]c7cccc8)CC9CC(O)(CC)CN(C9)CC6\n",
            "RDKit ERROR: [13:43:01] SMILES Parse Error: Failed parsing SMILES 'C1=CCN(CC2)[C@H]3[C@]1(CC)[C@@H](OC(=O)C)[C@](O)(C(=O)OC)C4N(C)c(c5[C@]234)cc(OC)c(c5)[C@](C(=O)OC)(c(\rc6c78)[nH]c7cccc8)CC9CC(O)(CC)CN(C9)CC6' for input: 'C1=CCN(CC2)[C@H]3[C@]1(CC)[C@@H](OC(=O)C)[C@](O)(C(=O)OC)C4N(C)c(c5[C@]234)cc(OC)c(c5)[C@](C(=O)OC)(c(\rc6c78)[nH]c7cccc8)CC9CC(O)(CC)CN(C9)CC6'\n",
            "RDKit ERROR: [13:43:01] SMILES Parse Error: syntax error while parsing: c1cc(S([O-])(=O)=O)cc(S([O-])(=O)=O)c1NC(=O)c2cc(C(=O)Nc3c(S([O-])(=O)=O)cc(S([O-\r])(=O)=O)cc3)cc(c2)NC(=O)Nc(c4)cc(C(=O)Nc5c(S([O-])(=O)=O)cc(S([O-])(=O)=O)cc5)cc4C(=O)Nc6c(S([O-\r])(=O)=O)cc(S([O-])(=O)=O)cc6\n",
            "RDKit ERROR: [13:43:01] SMILES Parse Error: Failed parsing SMILES 'c1cc(S([O-])(=O)=O)cc(S([O-])(=O)=O)c1NC(=O)c2cc(C(=O)Nc3c(S([O-])(=O)=O)cc(S([O-\r])(=O)=O)cc3)cc(c2)NC(=O)Nc(c4)cc(C(=O)Nc5c(S([O-])(=O)=O)cc(S([O-])(=O)=O)cc5)cc4C(=O)Nc6c(S([O-\r])(=O)=O)cc(S([O-])(=O)=O)cc6' for input: 'c1cc(S([O-])(=O)=O)cc(S([O-])(=O)=O)c1NC(=O)c2cc(C(=O)Nc3c(S([O-])(=O)=O)cc(S([O-\r])(=O)=O)cc3)cc(c2)NC(=O)Nc(c4)cc(C(=O)Nc5c(S([O-])(=O)=O)cc(S([O-])(=O)=O)cc5)cc4C(=O)Nc6c(S([O-\r])(=O)=O)cc(S([O-])(=O)=O)cc6'\n",
            "RDKit ERROR: [13:43:01] SMILES Parse Error: syntax error while parsing: c1cccc(c12)nc(cc2)C(=O)N[C@@H](CC(=O)N)C(=O)N[C@@H](Cc3ccccc3)[C@H](O)CN([C@@H](C4)C(=O)NC(C)(C)C)C[C\r@H]([C@H]45)CCCC5\n",
            "@H]([C@H]45)CCCC5'\n",
            "c7cccc8[nH]cc6c78\n",
            "c7cccc8[nH]cc6c78'\n",
            "O[C@H](C)C[C@@H]([C@H]3O)N(C)C(C)C)[C@](C)(O)C[C@@H](C)[C@H](O)[C@H](C)[C@@H](O)[C@]1(C)O\n",
            "O[C@H](C)C[C@@H]([C@H]3O)N(C)C(C)C)[C@](C)(O)C[C@@H](C)[C@H](O)[C@H](C)[C@@H](O)[C@]1(C)O'\n",
            "O[C@H](C)C[C@@H]([C@H]3O)N(C)C(C)C)[C@](C)(O)C[C@@H](C)[C@H](OCC(=O)NC)[C@H](C)[C@@H](O)[C@]1(C)O\n",
            "O[C@H](C)C[C@@H]([C@H]3O)N(C)C(C)C)[C@](C)(O)C[C@@H](C)[C@H](OCC(=O)NC)[C@H](C)[C@@H](O)[C@]1(C)O'\n",
            "O[C@H](C)C[C@@H]([C@H]3O)N(C)C)[C@@](C)(C[C@@H](C)C(=O)[C@H](C)[C@@H](O)[C@]1(C)O)OC\n",
            "O[C@H](C)C[C@@H]([C@H]3O)N(C)C)[C@@](C)(C[C@@H](C)C(=O)[C@H](C)[C@@H](O)[C@]1(C)O)OC'\n",
            "O[C@H](C)C[C@@H]([C@H]3O)N(C)C)[C@](C)(O)C[C@@H](C)[C@H](N)[C@H](C)[C@@H](O)[C@]1(C)O\n",
            "O[C@H](C)C[C@@H]([C@H]3O)N(C)C)[C@](C)(O)C[C@@H](C)[C@H](N)[C@H](C)[C@@H](O)[C@]1(C)O'\n",
            "O[C@H](C)C[C@@H]([C@H]3O)N(C)C)[C@](C)(O)C[C@@H](C)C(=O)[C@H](C)[C@@H](O)[C@]1(C)O\n",
            "O[C@H](C)C[C@@H]([C@H]3O)N(C)C)[C@](C)(O)C[C@@H](C)C(=O)[C@H](C)[C@@H](O)[C@]1(C)O'\n",
            "C@@H]([C@H]3O)N(C)C(C)C)[C@](C)(O)C[C@@H](C)[C@H](OCC(=O)NC)[C@H](C)[C@@H](O)[C@]1(C)O\n",
            "C@@H]([C@H]3O)N(C)C(C)C)[C@](C)(O)C[C@@H](C)[C@H](OCC(=O)NC)[C@H](C)[C@@H](O)[C@]1(C)O'\n",
            "@H](C)C(=O)[C@H](C)[C@H]3N(CCCCn4cnc(c4)c5cccnc5)C(=O)O[C@]13C)OC\n",
            "@H](C)C(=O)[C@H](C)[C@H]3N(CCCCn4cnc(c4)c5cccnc5)C(=O)O[C@]13C)OC'\n",
            "@@H](C)C(=O)[C@H](C)[C@H]3N(C4CN(C4)[C@H](C)c5ccnc6ncccc56)C(=O)O[C@]13C\n",
            "@@H](C)C(=O)[C@H](C)[C@H]3N(C4CN(C4)[C@H](C)c5ccnc6ncccc56)C(=O)O[C@]13C'\n",
            "@@H](C)C(=O)[C@H](C)[C@H]3N(C4CN(Cc5c(O)cnc6cccnc56)C4)C(=O)O[C@]13C\n",
            "@@H](C)C(=O)[C@H](C)[C@H]3N(C4CN(Cc5c(O)cnc6cccnc56)C4)C(=O)O[C@]13C'\n",
            "@@H](C)C(=O)[C@H](C)[C@H]3N(C4CN(Cc5c(O)cnc6ncccc56)C4)C(=O)O[C@]13C\n",
            "@@H](C)C(=O)[C@H](C)[C@H]3N(C4CN(Cc5c(O)cnc6ncccc56)C4)C(=O)O[C@]13C'\n",
            "@@H](C)C(=O)[C@H](C)[C@H]3N(C4CN(Cc5ccnc6cccnc56)C4)C(=O)O[C@]13C\n",
            "@@H](C)C(=O)[C@H](C)[C@H]3N(C4CN(Cc5ccnc6cccnc56)C4)C(=O)O[C@]13C'\n",
            "@@H](C)C(=O)[C@H](C)[C@H]3N(C4CN(Cc5ccnc6ncccc56)C4)C(=O)O[C@]13C\n",
            "@@H](C)C(=O)[C@H](C)[C@H]3N(C4CN(Cc5ccnc6ncccc56)C4)C(=O)O[C@]13C'\n",
            "])OC3CCN2c7ccc(CC(=O)NCCCCCN(CCOc8ccc(NS(=O)(=O)C)cc8)CCc9ccc(NS(=O)(=O)C)cc9)cc17\n",
            "])OC3CCN2c7ccc(CC(=O)NCCCCCN(CCOc8ccc(NS(=O)(=O)C)cc8)CCc9ccc(NS(=O)(=O)C)cc9)cc17'\n",
            "])OC3CCN2c7ccc(CC(=O)NCCCCN(CCOc8ccc(NS(=O)(=O)C)cc8)CCc9ccc(NS(=O)(=O)C)cc9)cc17\n",
            "])OC3CCN2c7ccc(CC(=O)NCCCCN(CCOc8ccc(NS(=O)(=O)C)cc8)CCc9ccc(NS(=O)(=O)C)cc9)cc17'\n",
            "])OC3CCN2c7ccc(CC(=O)NCCCN(CCOc8ccc(NS(=O)(=O)C)cc8)CCc9ccc(NS(=O)(=O)C)cc9)cc17\n",
            "])OC3CCN2c7ccc(CC(=O)NCCCN(CCOc8ccc(NS(=O)(=O)C)cc8)CCc9ccc(NS(=O)(=O)C)cc9)cc17'\n",
            "])OC3CCN2c7ccc(CC(=O)NCCN(CCOc8ccc(NS(=O)(=O)C)cc8)CCc9ccc(NS(=O)(=O)C)cc9)cc17\n",
            "])OC3CCN2c7ccc(CC(=O)NCCN(CCOc8ccc(NS(=O)(=O)C)cc8)CCc9ccc(NS(=O)(=O)C)cc9)cc17'\n",
            "])OC3CCN2c7ccc(CCC(=O)NCCCCCCN(CCOc8ccc(NS(=O)(=O)C)cc8)CCc9ccc(NS(=O)(=O)C)cc9)cc17\n",
            "])OC3CCN2c7ccc(CCC(=O)NCCCCCCN(CCOc8ccc(NS(=O)(=O)C)cc8)CCc9ccc(NS(=O)(=O)C)cc9)cc17'\n",
            "])OC3CCN2c7ccc(CCCCCC(=O)NCCCCCCN(CCOc8ccc(NS(=O)(=O)C)cc8)CCc9ccc(NS(=O)(=O)C)cc9)cc17\n",
            "])OC3CCN2c7ccc(CCCCCC(=O)NCCCCCCN(CCOc8ccc(NS(=O)(=O)C)cc8)CCc9ccc(NS(=O)(=O)C)cc9)cc17'\n",
            "])OC3CCN2c7ccc(CC(=O)NCCCCCCN(CCOc8ccc(NS(=O)(=O)C)cc8)CCc9ccc(NS(=O)(=O)C)cc9)cc17\n",
            "])OC3CCN2c7ccc(CC(=O)NCCCCCCN(CCOc8ccc(NS(=O)(=O)C)cc8)CCc9ccc(NS(=O)(=O)C)cc9)cc17'\n",
            "CCC7)C3=O)C#N\n",
            "CCC7)C3=O)C#N'\n",
            "1(C)O\n",
            "1(C)O'\n",
            "](C)(OC(=O)C)[C@@H]12)OC(=O)CCC)C\n",
            "](C)(OC(=O)C)[C@@H]12)OC(=O)CCC)C'\n",
            "C(C)(C)[C@@]14OC(=O)C\n",
            "C(C)(C)[C@@]14OC(=O)C'\n",
            "C(=O)OC)c7ccccc7\n",
            "C(=O)OC)c7ccccc7'\n",
            "c5)c2\n",
            "c5)c2'\n",
            "OC)c(OC)c6\n",
            "OC)c(OC)c6'\n",
            "C@@H](O[C@H]3C[C@@](C)(O)[C@@H](OC(=O)CC(C)C)[C@H](C)O3)[C@@H]([C@H]2O)N(C)C)OC(=O)C\n",
            "C@@H](O[C@H]3C[C@@](C)(O)[C@@H](OC(=O)CC(C)C)[C@H](C)O3)[C@@H]([C@H]2O)N(C)C)OC(=O)C'\n",
            "c5)cc3)c6ccccc6\n",
            "c5)cc3)c6ccccc6'\n",
            "7C[C@H](C)CN7C(=O)[C@@H](NC(=O)OC)C(C)C\n",
            "7C[C@H](C)CN7C(=O)[C@@H](NC(=O)OC)C(C)C'\n",
            "C[C@H](C)CN7C(=O)[C@@H](NC(=O)OC)C(C)C\n",
            "C[C@H](C)CN7C(=O)[C@@H](NC(=O)OC)C(C)C'\n",
            "[C@H](C)CN7C(=O)[C@@H](NC(=O)OC)C(C)C\n",
            "[C@H](C)CN7C(=O)[C@@H](NC(=O)OC)C(C)C'\n",
            "@@H](NC(=O)OC)C(C)C\n",
            "@@H](NC(=O)OC)C(C)C'\n",
            "C[C@H]7C[C@@H]7C(=O)O)c1\n",
            "C[C@H]7C[C@@H]7C(=O)O)c1'\n",
            "S(=O)(=O)C)c1\n",
            "S(=O)(=O)C)c1'\n",
            "c1\n",
            "c1'\n",
            "CC(=O)N(C)C)c1\n",
            "CC(=O)N(C)C)c1'\n",
            "COC(=O)C(C)(C)C)c1\n",
            "COC(=O)C(C)(C)C)c1'\n",
            "1\n",
            "1'\n",
            "NC6C=5NC=CC=6)C4)([C@H](OC(=O)[C@@H](C(=O)[C@@H]2C)C)CC)C)C)C)C)O[C@@H](C1)C)(C)C\n",
            "NC6C=5NC=CC=6)C4)([C@H](OC(=O)[C@@H](C(=O)[C@@H]2C)C)CC)C)C)C)C)O[C@@H](C1)C)(C)C'\n",
            "H]2O)[NH2+]C)C)[C@H]([C@H](O[C@@H]3O[C@H]([C@@H]([C@](OC)(C3)C)O)C)[C@H]1C)C)C)C)C)C)CC\n",
            "H]2O)[NH2+]C)C)[C@H]([C@H](O[C@@H]3O[C@H]([C@@H]([C@](OC)(C3)C)O)C)[C@H]1C)C)C)C)C)C)CC'\n",
            "]2O)[NH+](C)C)C)[C@H]([C@@H](O[C@@H]3O[C@H]([C@@H]([C@](OC)(C3)C)O)C)[C@H]1C)C)C)C)C)C)CC\n",
            "]2O)[NH+](C)C)C)[C@H]([C@@H](O[C@@H]3O[C@H]([C@@H]([C@](OC)(C3)C)O)C)[C@H]1C)C)C)C)C)C)CC'\n",
            "H+](C)C)C)[C@H]([C@H](O[C@@H]3O[C@H]([C@@H]([C@](OC)(C3)C)O)C)[C@H]1C)C)C)C)[NH3+])C)C)CC\n",
            "H+](C)C)C)[C@H]([C@H](O[C@@H]3O[C@H]([C@@H]([C@](OC)(C3)C)O)C)[C@H]1C)C)C)C)[NH3+])C)C)CC'\n"
          ],
          "name": "stderr"
        }
      ]
    },
    {
      "cell_type": "code",
      "metadata": {
        "id": "oeQgNE6wnjD0"
      },
      "source": [
        "#fps=[None]*data.shape[0]\n",
        "fps=[]\n",
        "bi={}\n",
        "errors = []\n",
        "for i in range(0,data.shape[0]):\n",
        "  try:\n",
        "    fps.append(rdMolDescriptors.GetMorganFingerprintAsBitVect(mols[i], radius=2, bitInfo= bi, nBits=256))\n",
        "  except:\n",
        "    errors.append(i)\n",
        "    pass"
      ],
      "execution_count": null,
      "outputs": []
    },
    {
      "cell_type": "code",
      "metadata": {
        "colab": {
          "base_uri": "https://localhost:8080/"
        },
        "id": "z1Vi5lvu_7Ep",
        "outputId": "0cdfcaeb-22d8-477d-dace-4ecd2392a7e0"
      },
      "source": [
        "errors"
      ],
      "execution_count": null,
      "outputs": [
        {
          "output_type": "execute_result",
          "data": {
            "text/plain": [
              "[7,\n",
              " 276,\n",
              " 307,\n",
              " 432,\n",
              " 583,\n",
              " 706,\n",
              " 707,\n",
              " 964,\n",
              " 1089,\n",
              " 1143,\n",
              " 1197,\n",
              " 2210,\n",
              " 2211,\n",
              " 2212,\n",
              " 2213,\n",
              " 2214,\n",
              " 2215,\n",
              " 2216,\n",
              " 2217,\n",
              " 2218,\n",
              " 2219,\n",
              " 2220,\n",
              " 2221,\n",
              " 2240,\n",
              " 2241,\n",
              " 2242,\n",
              " 2243,\n",
              " 2244,\n",
              " 2245,\n",
              " 2246,\n",
              " 2253,\n",
              " 3406,\n",
              " 3492,\n",
              " 3511,\n",
              " 3679,\n",
              " 3948,\n",
              " 5291,\n",
              " 5292,\n",
              " 5394,\n",
              " 5395,\n",
              " 5396,\n",
              " 5397,\n",
              " 5398,\n",
              " 6521,\n",
              " 6537,\n",
              " 6538,\n",
              " 6539,\n",
              " 6540,\n",
              " 6711,\n",
              " 7454,\n",
              " 8606,\n",
              " 8607,\n",
              " 8608]"
            ]
          },
          "metadata": {
            "tags": []
          },
          "execution_count": 89
        }
      ]
    },
    {
      "cell_type": "code",
      "metadata": {
        "id": "xNLdMk-lCbym",
        "colab": {
          "base_uri": "https://localhost:8080/"
        },
        "outputId": "e3f958ff-3b9e-4626-ce06-0a31cc819d9d"
      },
      "source": [
        "for i in range(0,len(errors)):\n",
        "  del mols[errors[i]]\n",
        "print(len(mols))"
      ],
      "execution_count": null,
      "outputs": [
        {
          "output_type": "stream",
          "text": [
            "9151\n"
          ],
          "name": "stdout"
        }
      ]
    },
    {
      "cell_type": "code",
      "metadata": {
        "id": "amkUvMEpEGNl"
      },
      "source": [
        "data = np.delete(data, errors, 0)"
      ],
      "execution_count": null,
      "outputs": []
    },
    {
      "cell_type": "code",
      "metadata": {
        "colab": {
          "base_uri": "https://localhost:8080/"
        },
        "id": "Ip-VlVonDL-J",
        "outputId": "f281344e-cf14-4929-e435-e22f9197192d"
      },
      "source": [
        "data.shape"
      ],
      "execution_count": null,
      "outputs": [
        {
          "output_type": "execute_result",
          "data": {
            "text/plain": [
              "(9151, 3)"
            ]
          },
          "metadata": {
            "tags": []
          },
          "execution_count": 92
        }
      ]
    },
    {
      "cell_type": "code",
      "metadata": {
        "id": "_dviVELYClxO"
      },
      "source": [
        "np_fps_array = []\n",
        "for fp in fps:\n",
        "  arr = np.zeros((1,), dtype= int)\n",
        "  DataStructs.ConvertToNumpyArray(fp, arr)\n",
        "  np_fps_array.append(arr)"
      ],
      "execution_count": null,
      "outputs": []
    },
    {
      "cell_type": "code",
      "metadata": {
        "id": "D23wepnlCmkA"
      },
      "source": [
        ""
      ],
      "execution_count": null,
      "outputs": []
    },
    {
      "cell_type": "code",
      "metadata": {
        "colab": {
          "base_uri": "https://localhost:8080/"
        },
        "id": "lP7L016-CpI4",
        "outputId": "de408995-ce70-4fe2-fef5-3af65434740c"
      },
      "source": [
        "data.shape"
      ],
      "execution_count": null,
      "outputs": [
        {
          "output_type": "execute_result",
          "data": {
            "text/plain": [
              "(9151, 3)"
            ]
          },
          "metadata": {
            "tags": []
          },
          "execution_count": 95
        }
      ]
    },
    {
      "cell_type": "code",
      "metadata": {
        "id": "Wbxk8GUkom6D"
      },
      "source": [
        "y = np.zeros((data.shape[0],2))"
      ],
      "execution_count": null,
      "outputs": []
    },
    {
      "cell_type": "code",
      "metadata": {
        "id": "5VpjG824rcIV"
      },
      "source": [
        "for i in range(0,data.shape[0]):\n",
        "  if data[i,2]=='Blocker':\n",
        "    y[i,0]=1\n",
        "  if data[i,2]=='Non-Blocker':\n",
        "    y[i,1]=1"
      ],
      "execution_count": null,
      "outputs": []
    },
    {
      "cell_type": "code",
      "metadata": {
        "colab": {
          "base_uri": "https://localhost:8080/"
        },
        "id": "Y0vSGrVJeMTG",
        "outputId": "7128e5a7-f623-4bd5-855a-afa45be24921"
      },
      "source": [
        "for i in range(0,data.shape[0]):\n",
        "  if data[i,2]=='BLINDED':\n",
        "    print(i)\n",
        "    break\n",
        "#Result: i=9053"
      ],
      "execution_count": null,
      "outputs": [
        {
          "output_type": "stream",
          "text": [
            "9054\n"
          ],
          "name": "stdout"
        }
      ]
    },
    {
      "cell_type": "code",
      "metadata": {
        "id": "gMwoe-0ser-0",
        "colab": {
          "base_uri": "https://localhost:8080/"
        },
        "outputId": "311bc0e5-a5f0-4166-bf9f-b0063191ebe5"
      },
      "source": [
        "y_blind = y[9053:,:]\n",
        "y=y[0:9053,:]\n",
        "y_blind.shape"
      ],
      "execution_count": null,
      "outputs": [
        {
          "output_type": "execute_result",
          "data": {
            "text/plain": [
              "(98, 2)"
            ]
          },
          "metadata": {
            "tags": []
          },
          "execution_count": 99
        }
      ]
    },
    {
      "cell_type": "code",
      "metadata": {
        "id": "yzl2jnT_fDRu"
      },
      "source": [
        "x_blind = np.array(np_fps_array)[9053:,:]\n",
        "x=np.array(np_fps_array)[0:9053,:]\n",
        "\n"
      ],
      "execution_count": null,
      "outputs": []
    },
    {
      "cell_type": "code",
      "metadata": {
        "id": "iMbOAMx-E4aT"
      },
      "source": [
        "y_uni = y.shape[0]\n",
        "blocked = []\n",
        "for i in range(0,y_uni):\n",
        "  if y[i,0]==1:\n",
        "    blocked.append(i)"
      ],
      "execution_count": null,
      "outputs": []
    },
    {
      "cell_type": "code",
      "metadata": {
        "colab": {
          "base_uri": "https://localhost:8080/"
        },
        "id": "GOOecRmnE4e0",
        "outputId": "112564a4-5244-43f2-fed0-2549db3200c1"
      },
      "source": [
        "len(blocked)"
      ],
      "execution_count": null,
      "outputs": [
        {
          "output_type": "execute_result",
          "data": {
            "text/plain": [
              "7517"
            ]
          },
          "metadata": {
            "tags": []
          },
          "execution_count": 102
        }
      ]
    },
    {
      "cell_type": "code",
      "metadata": {
        "colab": {
          "base_uri": "https://localhost:8080/"
        },
        "id": "5sCfHEEKE4dH",
        "outputId": "6418d3b9-b90c-4ada-c938-2ed642462526"
      },
      "source": [
        "y_uni"
      ],
      "execution_count": null,
      "outputs": [
        {
          "output_type": "execute_result",
          "data": {
            "text/plain": [
              "9053"
            ]
          },
          "metadata": {
            "tags": []
          },
          "execution_count": 103
        }
      ]
    },
    {
      "cell_type": "code",
      "metadata": {
        "id": "K46VLtRFFVj6"
      },
      "source": [
        "toremove = blocked[1535:]"
      ],
      "execution_count": null,
      "outputs": []
    },
    {
      "cell_type": "code",
      "metadata": {
        "id": "FO0zPxJDFkVs"
      },
      "source": [
        "yuni = np.delete(y, toremove, 0)\n",
        "xuni = np.delete(x, toremove, 0)"
      ],
      "execution_count": null,
      "outputs": []
    },
    {
      "cell_type": "code",
      "metadata": {
        "id": "kxWvSU1_Fi0d"
      },
      "source": [
        "xy =np.append(x,y,axis=1)"
      ],
      "execution_count": null,
      "outputs": []
    },
    {
      "cell_type": "code",
      "metadata": {
        "id": "IO4E0tW3FVm9"
      },
      "source": [
        "np.random.shuffle(xy)"
      ],
      "execution_count": null,
      "outputs": []
    },
    {
      "cell_type": "code",
      "metadata": {
        "colab": {
          "base_uri": "https://localhost:8080/"
        },
        "id": "i3EUwpzkGtIO",
        "outputId": "b6932269-89a6-47e3-c9be-8c9033884647"
      },
      "source": [
        "xy.shape\n",
        "print(xy)"
      ],
      "execution_count": null,
      "outputs": [
        {
          "output_type": "stream",
          "text": [
            "[[0. 0. 0. ... 1. 1. 0.]\n",
            " [1. 0. 0. ... 1. 1. 0.]\n",
            " [0. 0. 0. ... 1. 1. 0.]\n",
            " ...\n",
            " [0. 1. 0. ... 0. 1. 0.]\n",
            " [0. 0. 0. ... 0. 1. 0.]\n",
            " [0. 1. 1. ... 0. 1. 0.]]\n"
          ],
          "name": "stdout"
        }
      ]
    },
    {
      "cell_type": "code",
      "metadata": {
        "id": "Q8wpgUT3hwCD"
      },
      "source": [
        "def split(xy,ratio):\n",
        "  s = int(ratio*x.shape[0])\n",
        "  x_train = xy[0:s,:256]\n",
        "  y_train = xy[0:s,256:]\n",
        "  x_test = xy[s:,:256]\n",
        "  y_test = xy[s:,256:]\n",
        "  return (x_train,y_train,x_test,y_test)"
      ],
      "execution_count": null,
      "outputs": []
    },
    {
      "cell_type": "code",
      "metadata": {
        "id": "TwRZPmikfOS3"
      },
      "source": [
        ""
      ],
      "execution_count": null,
      "outputs": []
    },
    {
      "cell_type": "code",
      "metadata": {
        "id": "3qx_XDWshlEU"
      },
      "source": [
        ""
      ],
      "execution_count": null,
      "outputs": []
    },
    {
      "cell_type": "code",
      "metadata": {
        "id": "HFqL1G5Qhs0S"
      },
      "source": [
        ""
      ],
      "execution_count": null,
      "outputs": []
    },
    {
      "cell_type": "code",
      "metadata": {
        "id": "E6LiZOLji3m6"
      },
      "source": [
        ""
      ],
      "execution_count": null,
      "outputs": []
    },
    {
      "cell_type": "code",
      "metadata": {
        "id": "0R7mqUq1pOnw"
      },
      "source": [
        ""
      ],
      "execution_count": null,
      "outputs": []
    },
    {
      "cell_type": "code",
      "metadata": {
        "id": "0cvhDlwzwaW2"
      },
      "source": [
        ""
      ],
      "execution_count": null,
      "outputs": []
    },
    {
      "cell_type": "code",
      "metadata": {
        "id": "17LG-mwIw6rp"
      },
      "source": [
        ""
      ],
      "execution_count": null,
      "outputs": []
    },
    {
      "cell_type": "code",
      "metadata": {
        "id": "q_JqJejIHa8a"
      },
      "source": [
        "def get_covs(X_train,Y_train):\n",
        "  pos = []\n",
        "  neg = []\n",
        "  n,d = X_train.shape\n",
        "  for i in range(n):\n",
        "    if(Y_train[i][0]==0):\n",
        "      neg.append(i)\n",
        "    else:\n",
        "      pos.append(i)\n",
        "  m1 = X_train[pos]\n",
        "  m0 = X_train[neg]\n",
        "  mew1 = np.mean(m1,axis=0)\n",
        "  mew0 = np.mean(m0,axis=0)\n",
        "  m1 = np.transpose(m1)\n",
        "  m0 = np.transpose(m0)\n",
        "  covt = np.cov(np.transpose(X_train))\n",
        "  cov1 = np.cov(m1)\n",
        "  cov0 = np.cov(m0)\n",
        "  return (covt,cov0,cov1,mew0,mew1)"
      ],
      "execution_count": null,
      "outputs": []
    },
    {
      "cell_type": "code",
      "metadata": {
        "colab": {
          "base_uri": "https://localhost:8080/"
        },
        "id": "NXhBSLQeeY5a",
        "outputId": "ad82b3f2-1684-4a98-bc8f-75c622b26ec8"
      },
      "source": [
        "x_train,y_train,x_test,y_test = split(xy,0.8)\n",
        "y_train = y_train[:,[0]]\n",
        "y_test = y_test[:,[0]] \n",
        "print(x_train)\n",
        "todelete = []\n",
        "for i in range(x_test.shape[0]):\n",
        "  \n",
        "  if(y_test[i][0]==1):\n",
        "    todelete.append(i)\n",
        "print(x_train.shape)\n",
        "k = int(len(todelete)*0.75)\n",
        "x_t = np.delete(x_test,todelete[:k],0)\n",
        "y_t = np.delete(y_test,todelete[:k],0)\n",
        "print(x_t.shape)\n",
        "todelete1 = []\n",
        "for i in range(x_train.shape[0]):\n",
        "  \n",
        "  if(y_train[i][0]==1):\n",
        "    todelete1.append(i)\n",
        "k1  = int(len(todelete1)*0.75)\n",
        "print(x_train.shape)\n",
        "k = int(len(todelete1)*0.75)\n",
        "x_t1 = np.delete(x_train,todelete1[:k],0)\n",
        "y_t1 = np.delete(y_train,todelete1[:k],0)\n",
        "print(x_t1.shape)\n"
      ],
      "execution_count": null,
      "outputs": [
        {
          "output_type": "stream",
          "text": [
            "[[0. 0. 0. ... 0. 0. 1.]\n",
            " [1. 0. 0. ... 0. 0. 1.]\n",
            " [0. 0. 0. ... 1. 1. 1.]\n",
            " ...\n",
            " [0. 0. 0. ... 0. 0. 1.]\n",
            " [0. 0. 0. ... 1. 0. 0.]\n",
            " [0. 1. 0. ... 0. 0. 1.]]\n",
            "(7242, 256)\n",
            "(673, 256)\n",
            "(7242, 256)\n",
            "(2743, 256)\n"
          ],
          "name": "stdout"
        }
      ]
    },
    {
      "cell_type": "code",
      "metadata": {
        "colab": {
          "base_uri": "https://localhost:8080/"
        },
        "id": "yysFEB_ohWTR",
        "outputId": "368ad9dd-f0f7-4b5e-9374-cede8c59b6f3"
      },
      "source": [
        "covt,cov0,cov1,mew0,mew1 = get_covs(x_train,y_train)\n",
        "cov1.shape"
      ],
      "execution_count": null,
      "outputs": [
        {
          "output_type": "execute_result",
          "data": {
            "text/plain": [
              "(256, 256)"
            ]
          },
          "metadata": {
            "tags": []
          },
          "execution_count": 121
        }
      ]
    },
    {
      "cell_type": "code",
      "metadata": {
        "id": "rHi_vM1xi6NF"
      },
      "source": [
        "\n"
      ],
      "execution_count": null,
      "outputs": []
    },
    {
      "cell_type": "code",
      "metadata": {
        "id": "enooFoO_i8sp"
      },
      "source": [
        "def qda(cov0,cov1,mew0,mew1,X_test,Y_test,t):\n",
        "  n,d = X_test.shape\n",
        "  res = np.zeros((n,1))\n",
        "  s = 0\n",
        "  cov0 = np.linalg.inv(cov0)\n",
        "  cov1 = np.linalg.inv(cov1)\n",
        "  for i in range(n):\n",
        "    t1 = np.log(np.linalg.det(cov1))\n",
        "    t2 = np.matmul(X_test[i]-mew1,np.matmul(cov1,np.transpose(X_test[i]-mew1)))\n",
        "    t3 = np.log(np.linalg.det(cov0))\n",
        "    t4 = np.matmul(X_test[i]-mew0,np.matmul(cov0,np.transpose(X_test[i]-mew0)))\n",
        "    if(t3+t4>t1+t2+np.log(t)):\n",
        "      res[i][0] = 1\n",
        "    if(Y_test[i][0]==res[i][0]):\n",
        "      s+=1\n",
        "  print(\"accuracy :\" + str(100*(s/n)))\n",
        "  return res"
      ],
      "execution_count": null,
      "outputs": []
    },
    {
      "cell_type": "code",
      "metadata": {
        "colab": {
          "base_uri": "https://localhost:8080/"
        },
        "id": "ojHxCIRcj0jZ",
        "outputId": "f1442af2-11c5-4a9f-c408-163b3d3bc3e7"
      },
      "source": [
        "pred = qda(cov0,cov1,mew0,mew1,x_test,y_test,1)"
      ],
      "execution_count": null,
      "outputs": [
        {
          "output_type": "stream",
          "text": [
            "/usr/local/lib/python3.6/dist-packages/numpy/linalg/linalg.py:2116: RuntimeWarning: overflow encountered in det\n",
            "  r = _umath_linalg.det(a, signature=signature)\n"
          ],
          "name": "stderr"
        },
        {
          "output_type": "stream",
          "text": [
            "accuracy :16.178906681391496\n"
          ],
          "name": "stdout"
        }
      ]
    },
    {
      "cell_type": "code",
      "metadata": {
        "id": "ggDLoyxQlhdV"
      },
      "source": [
        "def lda(cov,mew0,mew1,X_test,Y_test,th):\n",
        "  n,d = X_test.shape\n",
        "  res = np.zeros((n,1))\n",
        "  s = 0\n",
        "  \n",
        "  mew0 = np.transpose(mew0)\n",
        "  mew1 = np.transpose(mew1)\n",
        "  w = np.matmul(np.linalg.inv(cov),mew1-mew0)\n",
        "  c = 0.5*np.dot(w,mew1+mew0)\n",
        "\n",
        "  for i in range(n):\n",
        "    \n",
        "    if(np.dot(X_test[i],w)>c-np.log(th)):\n",
        "      res[i][0] = 1\n",
        "    if(Y_test[i][0]==res[i][0]):\n",
        "      s+=1\n",
        "  print(\"accuracy :\" + str(100*(s/n)))\n",
        "  return res"
      ],
      "execution_count": null,
      "outputs": []
    },
    {
      "cell_type": "code",
      "metadata": {
        "colab": {
          "base_uri": "https://localhost:8080/"
        },
        "id": "S3B7BpNEprS0",
        "outputId": "2203ed75-1ae0-4613-882f-c9be8efc167e"
      },
      "source": [
        "pred = None\n",
        "th = 1\n",
        "while(th<11):\n",
        "  print(\"for threshhold\" + \"= \"+ str(th) + \":\") \n",
        "  pred = lda(cov1,mew0,mew1,x_test,y_test,th)\n",
        "  th+=1"
      ],
      "execution_count": null,
      "outputs": [
        {
          "output_type": "stream",
          "text": [
            "for threshhold= 1:\n",
            "accuracy :78.96189950303699\n",
            "for threshhold= 2:\n",
            "accuracy :82.16454997239094\n",
            "for threshhold= 3:\n",
            "accuracy :83.37934842628381\n",
            "for threshhold= 4:\n",
            "accuracy :83.8210933186085\n",
            "for threshhold= 5:\n",
            "accuracy :84.64936499171728\n",
            "for threshhold= 6:\n",
            "accuracy :84.81501932633904\n",
            "for threshhold= 7:\n",
            "accuracy :85.14632799558255\n",
            "for threshhold= 8:\n",
            "accuracy :85.09110988404197\n",
            "for threshhold= 9:\n",
            "accuracy :85.20154610712314\n",
            "for threshhold= 10:\n",
            "accuracy :85.42241855328547\n"
          ],
          "name": "stdout"
        }
      ]
    },
    {
      "cell_type": "code",
      "metadata": {
        "id": "cxdISHyH66KD"
      },
      "source": [
        "def wilks(X,Y):\n",
        "  pos = []\n",
        "  neg = []\n",
        "  n,d = X.shape\n",
        "  for i in range(n):\n",
        "    if(Y[i][0]==0):\n",
        "      neg.append(i)\n",
        "    else:\n",
        "      pos.append(i)\n",
        "  m1 = X[pos]\n",
        "  m0 = X[neg]\n",
        "  \n",
        "  \n",
        "  mew1 = np.mean(m1,axis=0)\n",
        "  mew0 = np.mean(m0,axis=0)\n",
        "  \n",
        "  mew = np.mean(X,axis=0)\n",
        "  \n",
        "  mew0 = mew0.reshape(1,256)\n",
        "  mew1 = mew1.reshape(1,256)\n",
        "  mew = mew.reshape(1,256)\n",
        " \n",
        "  n0,d = m0.shape\n",
        "  n1,d = m1.shape\n",
        "  \n",
        "  H = np.zeros((d,d))\n",
        "  H = H + n1*np.matmul(np.transpose(mew1-mew),mew1-mew)\n",
        "  H = H + n0*np.matmul(np.transpose(mew0-mew),mew0-mew)\n",
        "  \n",
        " \n",
        "  E = np.zeros((d,d))\n",
        "  for v in m1:\n",
        "    E+=np.matmul(np.transpose(v-mew1),v-mew1)\n",
        "  for v in m0:\n",
        "    E+= np.matmul(np.transpose(v-mew0),v-mew0)\n",
        "  detA = np.linalg.det(E)\n",
        "  \n",
        "  detB = np.linalg.det(E+H)\n",
        "  \n",
        "  return abs(detA)/abs(detB)"
      ],
      "execution_count": null,
      "outputs": []
    },
    {
      "cell_type": "code",
      "metadata": {
        "colab": {
          "base_uri": "https://localhost:8080/"
        },
        "id": "Rjh8Oqhb7aUv",
        "outputId": "9cac65fa-8a9e-4df0-e59c-bad9fb7b223c"
      },
      "source": [
        "print(wilks(x_test,pred))"
      ],
      "execution_count": null,
      "outputs": [
        {
          "output_type": "stream",
          "text": [
            "nan\n"
          ],
          "name": "stdout"
        },
        {
          "output_type": "stream",
          "text": [
            "/usr/local/lib/python3.6/dist-packages/numpy/linalg/linalg.py:2116: RuntimeWarning: overflow encountered in det\n",
            "  r = _umath_linalg.det(a, signature=signature)\n",
            "/usr/local/lib/python3.6/dist-packages/ipykernel_launcher.py:40: RuntimeWarning: invalid value encountered in double_scalars\n"
          ],
          "name": "stderr"
        }
      ]
    },
    {
      "cell_type": "code",
      "metadata": {
        "id": "KSeJ8zbBKnol"
      },
      "source": [
        "def get_result(cov,mew0,mew1,X_test,th):\n",
        "  n,d = X_test.shape\n",
        "  res = np.zeros((n,1))\n",
        "  s = 0\n",
        "  \n",
        "  mew0 = np.transpose(mew0)\n",
        "  mew1 = np.transpose(mew1)\n",
        "  w = np.matmul(np.linalg.inv(cov),mew1-mew0)\n",
        "  c = 0.5*np.dot(w,mew1+mew0)\n",
        "\n",
        "  for i in range(n):\n",
        "    \n",
        "    if(np.dot(X_test[i],w)>c-np.log(th)):\n",
        "      res[i][0] = 1\n",
        "\n",
        "  return res"
      ],
      "execution_count": null,
      "outputs": []
    },
    {
      "cell_type": "code",
      "metadata": {
        "id": "KxVoDtsaK4uL",
        "colab": {
          "base_uri": "https://localhost:8080/"
        },
        "outputId": "204266ef-c9a1-4c7c-c126-3d10a2e82f9a"
      },
      "source": [
        "y_pred = get_result(cov1,mew0,mew1,x_blind,10)\n",
        "iter = 1\n",
        "f = open('/content/drive/My Drive/Drug Discovery Hackathon/' + 'iupac.txt','w')\n",
        "for i in range(98):\n",
        "  smiles = data[i+9053][1]\n",
        "  print(smiles)\n",
        "  compounds = pubchempy.get_compounds(smiles, namespace='smiles')\n",
        "  match = compounds[0]\n",
        "  try:\n",
        "    if(y_pred[i][0]==1):\n",
        "      f.write(match.iupac_name + ' Blocker' + '\\n')\n",
        "    else:\n",
        "      f.write(match.iupac_name + ' Non-Blocker'+ '\\n')\n",
        "  except:\n",
        "    continue\n",
        "  iter+=1\n",
        "f.close()\n",
        "\n",
        "\n"
      ],
      "execution_count": null,
      "outputs": [
        {
          "output_type": "stream",
          "text": [
            "ONC(=O)\\C=C\\c1ccc2CN(Cc2c1)S(=O)(=O)c3ccc(cc3)C(F)(F)F\n",
            "ONC(=O)\\C=C\\c1ccc2CN(Cc2c1)S(=O)(=O)c3cccc(c3)C(F)(F)F\n",
            "ONC(=O)\\C=C\\c1ccc2CN(Cc2c1)S(=O)(=O)c3ccccc3\n",
            "ONC(=O)\\C=C\\c1ccc2CN(Cc2c1)S(=O)(=O)c3cccnc3\n",
            "ONC(=O)\\C=C\\c1ccc2CN(Cc2c1)S(=O)(=O)c3cccs3\n",
            "ONC(=O)\\C=C\\c1ccc2CN(Cc2c1)S(=O)(=O)c3ccncc3\n",
            "ONC(=O)\\C=C\\c1ccc2CN(Cc2c1)S(=O)(=O)Cc3ccccc3\n",
            "ONC(=O)\\C=C\\c1ccc2CN(Cc3ccccc3)Cc2c1\n",
            "ONC(=O)\\C=C\\c1ccc2CN(CCc3c[nH]c4ccccc34)Cc2c1\n",
            "ONC(=O)\\C=C\\c1ccc2CN(CCC3CCCCC3)Cc2c1\n",
            "ONC(=O)\\C=C\\c1ccc2CN(CCc3cnn4ccccc34)Cc2c1\n",
            "ONC(=O)\\C=C\\c1ccc2OC3(CCN(Cc4ccc(F)cc4)CC3)CC(=O)c2c1\n",
            "ONC(=O)\\C=C\\c1ccc2OC3(CCN(Cc4ccccc4)CC3)CC(=O)c2c1\n",
            "ONC(=O)\\C=C\\c1cccc(c1)S(=O)(=O)Nc2ccccc2\n",
            "ONC(=O)C1(CCC2(CCNCC2)C1)S(=O)(=O)c3ccc(Oc4ccc(cc4)C(=O)N5CCCC5)cc3\n",
            "ONC(=O)C1(CCC2(CCNCC2)C1)S(=O)(=O)c3ccc(Oc4ccc(OC(F)(F)F)cc4)cc3\n",
            "ONC(=O)C1(CCC2(CCNCC2)C1)S(=O)(=O)c3ccc(OCc4ccc(OC(F)(F)F)cc4)cc3\n",
            "ONC(=O)c1cnc(nc1)N2C[C@H]3CN(Cc4ccc5ccccc5c4)C[C@H]3C2\n",
            "ONC(=O)CCCCCCC(=O)Nc1ccc2ccnc(Nc3ccc(Br)cc3F)c2c1\n",
            "ONC(=O)CCCCCCC(=O)Nc1ccc2ccnc(Nc3ccc4ccccc4c3)c2c1\n",
            "ONC(=O)CCCCCCC(=O)Nc1ccc2ccnc(Nc3cccc(Cl)c3F)c2c1\n",
            "ONC(=O)CCCCCCC(=O)Nc1ccccc1\n",
            "OP(=O)(O)OC[C@H]1CCCN1CCCOc2ccc3c(Nc4cnn(CC(=O)Nc5cccc(F)c5F)c4)nncc3c2\n",
            "OS(=O)(=O)C1CCNCC1\n",
            "S(C[C@@H]1C[C@@H]2c3c4c(N=CC4C[C@H]2[NH+](CCC)C1)ccc3)C\n",
            "S(C1=NN/C(=C2\\N=C3C(=C\\2)C=CC=C3)/N1C)CCCN4CCc5c(ccc(-c6ncc(o6)C)c5)CC4\n",
            "S(c1cc2c(Sc3c(N2CC[C@@H]4[N@H+](CCCC4)C)cccc3)cc1)C\n",
            "S(c1nnc(-c2occc2)n1C(C3C4CC(C3)CC4)C)Cc5ccccc5\n",
            "S(c1nnc(-c2occc2)n1C(C3C4CC(C3)CC4)C)CCc5cc(O)ccc5\n",
            "S(c1nnc(-c2occc2)n1C(C3C4CC(C3)CC4)C)CCc5ncccc5\n",
            "S(Sc1nc2ccccc2s1)c3nc4ccccc4s3\n",
            "S=C(Nc1ccccc1)Nc2nc(cc(c3ccccc3)c2C#N)c4ccccc4\n",
            "S=C1N(C(c2cscc2)=NN1)[C@@H]([C@H]3[C@@H]4CC(C3)CC4)C\n",
            "s1cccc1C(=N)Nc(c2)ccc(c23)[nH]cc3[C@H]4C[C@H](CCC4)NCC\n",
            "s1cccc1C(=N)Nc(c2)ccc(c23)[nH]cc3[C@H]4CC[C@H](CC4)NC\n",
            "s1cccc1C(=N)Nc(c2)ccc(c23)[nH]cc3[C@H]4CC[C@H](CC4)NCC\n",
            "s1cccc1C(=N)Nc(c2)ccc(c23)[nH]cc3C4CC(NC)CCC4\n",
            "s1cccc1C(=N)Nc(c2)ccc(c23)N(CCC3)C4CCNC4\n",
            "s1cccc1C(=N)Nc(c2)ccc(c23)N(CCC3)CC[C@@H]4CCCN4C\n",
            "s1cccc1C(=N)Nc(c2)ccc(c23)N(CCC3)CCCNC\n",
            "s1cccc1C(=N)Nc(c2)ccc(c23)N(CCC3)CCCNCCO\n",
            "s1cccc1C(=N)Nc(c2)ccc(c23)N(CCC3)CCN(C)CC\n",
            "s1cccc1C(=N)Nc(c2)ccc(c23)N(CCC3)CCN(C)CCO\n",
            "s1cccc1C(=N)Nc(c2)ccc(c23)N(CCC3)CCNC\n",
            "s1cccc1C(=N)Nc(c2)ccc(c23)N(CCC3)CCNC(C)C\n",
            "s1cccc1C(=N)Nc(c2)ccc(c23)N(CCC3)CCNCC\n",
            "s1cccc1C(=N)Nc(c2)ccc(c23)N(CCC3)CCNCCO\n",
            "s1cccc1CN(CCN(C)C)c2ccccn2\n",
            "S1CCN(C1=2)C[C@@H](N2)c3ccc(Br)cc3\n",
            "S1CCN(C1=2)CC(N2)c3ccccc3\n",
            "Sc1nc(cn1\\N=C\\c2cccc3ccccc23)c4ccccc4\n",
            "Sc1ncccc1C(=O)N2CC[C@H](NCc3cncn3Cc4ccc(cc4)C#N)C2=O\n",
            "Sc1ncnc2c1sc3nc(c4CCCCc4c23)c5ccccc5\n",
            "Sc1nnc(CSc2nc3ccccc3s2)n1C4CCCCC4\n",
            "COc1cccc(c1)[C@@H](C)N2[C@@H]3CC[C@H]2C[C@@H](C3)Oc4cccc(c4)C(=O)N\n",
            "CN(C)c1cn(c2ccc(F)cc2)c3ccc(Cl)cc13\n",
            "CN(C)CCCn1nc(C2=C(C(=O)NC2=O)c3cn(c4ccc5ccccc5c4)c6ccccc36)c7ccccc17\n",
            "CCCOCCN1C(=O)C(=Nc2cnc(cc12)c3ccc(OC)nc3)N4CCN(CC4)[C@@H](C)[C@@H](C)O\n",
            "O=S1(=O)CCC(CC1)C2N[C@H](Cc3c2[nH]c4ccccc34)c5nc(c[nH]5)c6ccccc6\n",
            "Fc1ccc(CCN2CCC(CC2)S(=O)(=O)c3ccc(Cl)cc3)c(F)c1\n",
            "C1CCC(CC1)C2N[C@H](Cc3c2[nH]c4ccccc34)c5nc(c[nH]5)c6ccccn6\n",
            "CN1[C@@H]2CC[C@@H]3[C@H](CC[C@@]4(C)[C@H]3C\\C(=C/c5ccccc5)\\[C@@H]4O)[C@@]2(C)C=CC1=O\n",
            "CN1CCN(CC1)c2ncnc3c2nc(c4ccc(Cl)cc4Cl)n3c5ccc(Cl)cc5\n",
            "Clc1cccc(c1)N2CCN(CCN3C[C@@H]4CC[C@@H](CC4)C3)C2=O\n",
            "CC(C(=O)NC1(CCC(CC1)N2CCC(CC2)C3CCOC3=O)c4ccccc4)c5cc(cc(c5)C(F)(F)F)C(F)(F)F\n",
            "CCN(CC)C(=S)NC(=O)c1ccc(OC)c(Br)c1\n",
            "C[n+]1c(COc2ccccc2)cccc1COc3ccccc3\n",
            "Cc1ccc2c(cccc2n1)c3nnc(SCCCN4CCc5cc6oc(nc6cc5CC4)C(C)(C)C)n3C\n",
            "c1ccccc1C(c2ccccc2)O[C@@H](C3)C[C@@H](N4C)CC[C@H]34\n",
            "CCCCCc1ccc(cc1)c2ccoc2C(=O)NNC(=O)c3ccc(O)c(c3)[N+](=O)[O-]\n",
            "CN1CCN(CC1)C2Cc(cccc3)c3Sc(c24)ccc(Cl)c4\n",
            "Nc1ccnc(Nc2ccc(Oc3ccccc3Cl)cc2)n1\n",
            "Fc1ncccc1c2cc3sc(nc3cn2)N4CCC(CC4)N5CCCCC5\n",
            "C[C@@H]1CCCN1CCc2ccc3nc(ccc3c2)c4csc(n4)c5ccccc5\n",
            "F[C@@H]1CCNC[C@H]1c2c([nH]c3cc(F)ccc23)c4ccsc4\n",
            "COCC1CCCN1S(=O)(=O)c2ccc(cc2)c3ccc(CCN4CCC[C@H]4C)cc3\n",
            "Cc1ccnc(CN2CCC(CC2)Oc3ncnc4c3ccn4Cc5ccccc5)c1\n",
            "FC(F)(F)c1ccc2ncnc(NCC(=O)NC3CN(C3)[C@@H]4CC[C@@H](CC4)c5ccccc5C#N)c2c1\n",
            "CCOC(=O)N1[C@@H]2CC[C@H]1C[C@H](CN3CC[C@@H](C3)N4C(=O)Cc5ccccc45)C2\n",
            "Cc1oc2c(Br)c3CCN(CCCSc4nnc(c5cccc6nc(C)ccc56)n4C)CCc3cc2n1\n",
            "c1cccc(c12)sc(c2)C3(CCCCC3)N4CCCCC4\n",
            "Clc1ccc(cc1)n2c(nc3c(ncnc23)N4CCCCC4)c5ccc(Cl)cc5Cl\n",
            "CC1(CCN(C1=O)[C@@]2(CC[C@H](CC2)N3CCN(C(=O)C3)c4ccccc4Cl)c5ccccc5)c6cc(cc(c6)C(F)(F)F)C(F)(F)F\n",
            "Fc1ccc(cc1)C2(CNC(=N2)c3cnccn3)c4ccc(F)cc4\n",
            "COc1c(C)cc(nc1C)C2(N=C(N)c3c(F)cccc23)c4cccc(c4)c5cncnc5\n",
            "CCOc1cc2ncc(C(=O)N)c(Nc3cccc(Cl)c3Cl)c2cc1C4CCN(C)CC4\n",
            "CN1CCC(CC1)c2ccc3nc(Nc4ccc(cn4)C(F)(F)F)[nH]c3c2\n",
            "OC(COc1ccc(F)cc1C(=O)CCc2ccccc2)CN3CCN(CC3)C(c4ccccc4)c5ccccc5\n",
            "CC(C)(CCCN1CCCC(C1)c2ccccc2)S(=O)(=O)c3ccccc3\n",
            "CCN(CC)C(=O)c1ccc(cc1)C2CC3(CCNCC3)Oc4ccccc24\n",
            "COc1ccc(cc1)[C@H]2CN(NS(=O)(=O)C)C(=O)N2CCc3ccc(OC(F)(F)F)cc3\n",
            "Cc1ncc(OC[C@]2(C[C@H]2C(=O)Nc3ccc(F)cn3)c4cccc(F)c4)c(C)n1\n",
            "CCCc1cccc(Nc2cc(N[C@@H]3CCCC[C@@H]3N)nnc2C(=O)N)n1\n",
            "CN([C@H]1CCc2cc(CN3CCN(CC3)C(=O)N)ccc2C1)C(=O)c4ccc(cc4)c5ccc(F)cc5\n",
            "CC(C)(C)c1[nH]c2ccccc2c1CCNCc3ccc(\\C=C\\C(=O)NO)cc3\n",
            "Cc1ccccc1C(=O)Nc2ccc(cc2)c3oc(NCCCN4CCCCC4)nn3\n",
            "FC(F)(F)c(n1)nn(c12)nc(cc2)N(CC3)C[C@H](N)[C@H]3c4c(F)cc(F)c(F)c4\n",
            "CN1CCC(COCc2cc(cc(n2)N3CC=CC3)C(F)(F)F)(CC1)c4ccc(F)cc4\n"
          ],
          "name": "stdout"
        }
      ]
    },
    {
      "cell_type": "code",
      "metadata": {
        "id": "KkNrdumffYgq"
      },
      "source": [
        "f = open('/content/drive/My Drive/Drug Discovery Hackathon/' + 'iupac.txt','r+')\n",
        "f.seek(0)\n",
        "for line in f:\n",
        "  if(line[len(line)-7:]=='Blocker'):\n",
        "    f.write(line[:len(line)-7]+(' '*(100-len(line)-7))+'Blocker \\n')"
      ],
      "execution_count": null,
      "outputs": []
    },
    {
      "cell_type": "code",
      "metadata": {
        "id": "cCREP5KxZlTa"
      },
      "source": [
        "import requests\n",
        "\n",
        "\n",
        "CACTUS = \"https://cactus.nci.nih.gov/chemical/structure/{0}/{1}\"\n",
        "\n",
        "\n",
        "def smiles_to_iupac(smiles):\n",
        "    rep = \"iupac_name\"\n",
        "    url = CACTUS.format(smiles, rep)\n",
        "    response = requests.get(url)\n",
        "    response.raise_for_status()\n",
        "    return response.text"
      ],
      "execution_count": null,
      "outputs": []
    },
    {
      "cell_type": "code",
      "metadata": {
        "colab": {
          "base_uri": "https://localhost:8080/"
        },
        "id": "faJ-Fdn5Zu04",
        "outputId": "374d9e33-77d2-4c02-dc12-248e9adb4683"
      },
      "source": [
        "import pubchempy\n",
        "\n",
        "\n",
        "# Use the SMILES you provided\n",
        "smiles = 'CCCCCCCCCCCCCC'\n",
        "compounds = pubchempy.get_compounds(smiles, namespace='smiles')\n",
        "match = compounds[0]\n",
        "print(match.iupac_name)"
      ],
      "execution_count": null,
      "outputs": [
        {
          "output_type": "stream",
          "text": [
            "tetradecane\n"
          ],
          "name": "stdout"
        }
      ]
    },
    {
      "cell_type": "code",
      "metadata": {
        "colab": {
          "base_uri": "https://localhost:8080/"
        },
        "id": "O_tkF1-_a6Bv",
        "outputId": "bb8da55b-e4bc-409f-fbda-a17571721200"
      },
      "source": [
        "!pip install pubchempy"
      ],
      "execution_count": null,
      "outputs": [
        {
          "output_type": "stream",
          "text": [
            "Collecting pubchempy\n",
            "  Downloading PubChemPy-1.0.4.tar.gz (29 kB)\n",
            "Building wheels for collected packages: pubchempy\n",
            "  Building wheel for pubchempy (setup.py) ... \u001b[?25l\u001b[?25hdone\n",
            "  Created wheel for pubchempy: filename=PubChemPy-1.0.4-py3-none-any.whl size=13828 sha256=a7e8505547c8c19c6e1f7655520a549003e04b7a221262da2295f910d15d7f21\n",
            "  Stored in directory: /root/.cache/pip/wheels/7c/3d/8c/8192697412e9899dc55bbbb08bbc1197bef333caaa2a71c448\n",
            "Successfully built pubchempy\n",
            "Installing collected packages: pubchempy\n",
            "Successfully installed pubchempy-1.0.4\n"
          ],
          "name": "stdout"
        }
      ]
    }
  ]
}